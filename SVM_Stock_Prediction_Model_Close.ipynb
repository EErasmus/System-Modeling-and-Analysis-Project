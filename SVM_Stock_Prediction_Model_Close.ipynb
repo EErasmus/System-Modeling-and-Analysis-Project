{
  "nbformat": 4,
  "nbformat_minor": 0,
  "metadata": {
    "colab": {
      "name": "SVM_Stock_Prediction_Model_Close.ipynb",
      "provenance": [],
      "mount_file_id": "1Ly2IuXsb0N70viFjXx1E8TLazKIeg7Rq",
      "authorship_tag": "ABX9TyPEhfpATXhAnGo9Kx2Rndug",
      "include_colab_link": true
    },
    "kernelspec": {
      "name": "python3",
      "display_name": "Python 3"
    }
  },
  "cells": [
    {
      "cell_type": "markdown",
      "metadata": {
        "id": "view-in-github",
        "colab_type": "text"
      },
      "source": [
        "<a href=\"https://colab.research.google.com/github/EErasmus/System-Modeling-and-Analysis-Project/blob/master/SVM_Stock_Prediction_Model_Close.ipynb\" target=\"_parent\"><img src=\"https://colab.research.google.com/assets/colab-badge.svg\" alt=\"Open In Colab\"/></a>"
      ]
    },
    {
      "cell_type": "code",
      "metadata": {
        "id": "ZgGCDMks4ZI8"
      },
      "source": [
        "import numpy as np\r\n",
        "import pandas as pd\r\n",
        "import matplotlib.pyplot as plt\r\n",
        "from sklearn.linear_model import LinearRegression\r\n",
        "from sklearn.svm import SVR\r\n",
        "from sklearn.model_selection import train_test_split\r\n",
        "plt.style.use('fivethirtyeight')"
      ],
      "execution_count": 1,
      "outputs": []
    },
    {
      "cell_type": "code",
      "metadata": {
        "colab": {
          "base_uri": "https://localhost:8080/",
          "height": 731
        },
        "id": "04bfnLWy51WJ",
        "outputId": "1fcd3818-a59e-4cec-8b3b-02b9dfa3e8bb"
      },
      "source": [
        "#Store and show the data\r\n",
        "df = pd.read_csv('/content/drive/MyDrive/Informatics/Politechnika Wroclawska/SMAA/SMAA Project/Dataset/aapl.us.2017.oct.csv')\r\n",
        "df"
      ],
      "execution_count": 2,
      "outputs": [
        {
          "output_type": "execute_result",
          "data": {
            "text/html": [
              "<div>\n",
              "<style scoped>\n",
              "    .dataframe tbody tr th:only-of-type {\n",
              "        vertical-align: middle;\n",
              "    }\n",
              "\n",
              "    .dataframe tbody tr th {\n",
              "        vertical-align: top;\n",
              "    }\n",
              "\n",
              "    .dataframe thead th {\n",
              "        text-align: right;\n",
              "    }\n",
              "</style>\n",
              "<table border=\"1\" class=\"dataframe\">\n",
              "  <thead>\n",
              "    <tr style=\"text-align: right;\">\n",
              "      <th></th>\n",
              "      <th>Date</th>\n",
              "      <th>Open</th>\n",
              "      <th>High</th>\n",
              "      <th>Low</th>\n",
              "      <th>Close</th>\n",
              "      <th>Volume</th>\n",
              "      <th>OpenInt</th>\n",
              "    </tr>\n",
              "  </thead>\n",
              "  <tbody>\n",
              "    <tr>\n",
              "      <th>0</th>\n",
              "      <td>02/10/2017</td>\n",
              "      <td>153.71</td>\n",
              "      <td>153.90</td>\n",
              "      <td>152.17</td>\n",
              "      <td>153.26</td>\n",
              "      <td>18749860</td>\n",
              "      <td>0</td>\n",
              "    </tr>\n",
              "    <tr>\n",
              "      <th>1</th>\n",
              "      <td>03/10/2017</td>\n",
              "      <td>153.46</td>\n",
              "      <td>154.53</td>\n",
              "      <td>153.36</td>\n",
              "      <td>153.92</td>\n",
              "      <td>16277486</td>\n",
              "      <td>0</td>\n",
              "    </tr>\n",
              "    <tr>\n",
              "      <th>2</th>\n",
              "      <td>04/10/2017</td>\n",
              "      <td>153.08</td>\n",
              "      <td>153.31</td>\n",
              "      <td>151.91</td>\n",
              "      <td>152.93</td>\n",
              "      <td>20188277</td>\n",
              "      <td>0</td>\n",
              "    </tr>\n",
              "    <tr>\n",
              "      <th>3</th>\n",
              "      <td>05/10/2017</td>\n",
              "      <td>153.63</td>\n",
              "      <td>154.88</td>\n",
              "      <td>153.50</td>\n",
              "      <td>154.83</td>\n",
              "      <td>21341803</td>\n",
              "      <td>0</td>\n",
              "    </tr>\n",
              "    <tr>\n",
              "      <th>4</th>\n",
              "      <td>06/10/2017</td>\n",
              "      <td>154.41</td>\n",
              "      <td>154.93</td>\n",
              "      <td>154.01</td>\n",
              "      <td>154.74</td>\n",
              "      <td>17448243</td>\n",
              "      <td>0</td>\n",
              "    </tr>\n",
              "    <tr>\n",
              "      <th>5</th>\n",
              "      <td>09/10/2017</td>\n",
              "      <td>155.25</td>\n",
              "      <td>156.17</td>\n",
              "      <td>154.93</td>\n",
              "      <td>155.28</td>\n",
              "      <td>16302190</td>\n",
              "      <td>0</td>\n",
              "    </tr>\n",
              "    <tr>\n",
              "      <th>6</th>\n",
              "      <td>10/10/2017</td>\n",
              "      <td>155.50</td>\n",
              "      <td>157.43</td>\n",
              "      <td>154.54</td>\n",
              "      <td>155.34</td>\n",
              "      <td>15659866</td>\n",
              "      <td>0</td>\n",
              "    </tr>\n",
              "    <tr>\n",
              "      <th>7</th>\n",
              "      <td>11/10/2017</td>\n",
              "      <td>155.41</td>\n",
              "      <td>156.42</td>\n",
              "      <td>155.19</td>\n",
              "      <td>155.99</td>\n",
              "      <td>16942261</td>\n",
              "      <td>0</td>\n",
              "    </tr>\n",
              "    <tr>\n",
              "      <th>8</th>\n",
              "      <td>12/10/2017</td>\n",
              "      <td>155.79</td>\n",
              "      <td>156.81</td>\n",
              "      <td>155.17</td>\n",
              "      <td>155.44</td>\n",
              "      <td>16440001</td>\n",
              "      <td>0</td>\n",
              "    </tr>\n",
              "    <tr>\n",
              "      <th>9</th>\n",
              "      <td>13/10/2017</td>\n",
              "      <td>156.17</td>\n",
              "      <td>156.72</td>\n",
              "      <td>155.85</td>\n",
              "      <td>156.43</td>\n",
              "      <td>16432666</td>\n",
              "      <td>0</td>\n",
              "    </tr>\n",
              "    <tr>\n",
              "      <th>10</th>\n",
              "      <td>16/10/2017</td>\n",
              "      <td>157.33</td>\n",
              "      <td>159.43</td>\n",
              "      <td>157.09</td>\n",
              "      <td>159.31</td>\n",
              "      <td>24182814</td>\n",
              "      <td>0</td>\n",
              "    </tr>\n",
              "    <tr>\n",
              "      <th>11</th>\n",
              "      <td>17/10/2017</td>\n",
              "      <td>159.21</td>\n",
              "      <td>160.29</td>\n",
              "      <td>158.66</td>\n",
              "      <td>159.90</td>\n",
              "      <td>19040557</td>\n",
              "      <td>0</td>\n",
              "    </tr>\n",
              "    <tr>\n",
              "      <th>12</th>\n",
              "      <td>18/10/2017</td>\n",
              "      <td>159.85</td>\n",
              "      <td>160.13</td>\n",
              "      <td>159.03</td>\n",
              "      <td>159.19</td>\n",
              "      <td>16314850</td>\n",
              "      <td>0</td>\n",
              "    </tr>\n",
              "    <tr>\n",
              "      <th>13</th>\n",
              "      <td>19/10/2017</td>\n",
              "      <td>156.19</td>\n",
              "      <td>156.52</td>\n",
              "      <td>154.46</td>\n",
              "      <td>155.42</td>\n",
              "      <td>42539211</td>\n",
              "      <td>0</td>\n",
              "    </tr>\n",
              "    <tr>\n",
              "      <th>14</th>\n",
              "      <td>20/10/2017</td>\n",
              "      <td>156.05</td>\n",
              "      <td>157.18</td>\n",
              "      <td>155.40</td>\n",
              "      <td>155.69</td>\n",
              "      <td>23997615</td>\n",
              "      <td>0</td>\n",
              "    </tr>\n",
              "    <tr>\n",
              "      <th>15</th>\n",
              "      <td>23/10/2017</td>\n",
              "      <td>156.33</td>\n",
              "      <td>157.13</td>\n",
              "      <td>154.94</td>\n",
              "      <td>155.61</td>\n",
              "      <td>22039067</td>\n",
              "      <td>0</td>\n",
              "    </tr>\n",
              "    <tr>\n",
              "      <th>16</th>\n",
              "      <td>24/10/2017</td>\n",
              "      <td>155.73</td>\n",
              "      <td>156.86</td>\n",
              "      <td>155.64</td>\n",
              "      <td>156.54</td>\n",
              "      <td>17701740</td>\n",
              "      <td>0</td>\n",
              "    </tr>\n",
              "    <tr>\n",
              "      <th>17</th>\n",
              "      <td>25/10/2017</td>\n",
              "      <td>156.35</td>\n",
              "      <td>156.99</td>\n",
              "      <td>154.71</td>\n",
              "      <td>155.85</td>\n",
              "      <td>21253629</td>\n",
              "      <td>0</td>\n",
              "    </tr>\n",
              "    <tr>\n",
              "      <th>18</th>\n",
              "      <td>26/10/2017</td>\n",
              "      <td>156.67</td>\n",
              "      <td>157.26</td>\n",
              "      <td>156.22</td>\n",
              "      <td>156.85</td>\n",
              "      <td>16993593</td>\n",
              "      <td>0</td>\n",
              "    </tr>\n",
              "    <tr>\n",
              "      <th>19</th>\n",
              "      <td>27/10/2017</td>\n",
              "      <td>158.72</td>\n",
              "      <td>163.01</td>\n",
              "      <td>158.13</td>\n",
              "      <td>162.47</td>\n",
              "      <td>44561025</td>\n",
              "      <td>0</td>\n",
              "    </tr>\n",
              "    <tr>\n",
              "      <th>20</th>\n",
              "      <td>30/10/2017</td>\n",
              "      <td>163.30</td>\n",
              "      <td>167.47</td>\n",
              "      <td>163.13</td>\n",
              "      <td>166.12</td>\n",
              "      <td>44861465</td>\n",
              "      <td>0</td>\n",
              "    </tr>\n",
              "    <tr>\n",
              "      <th>21</th>\n",
              "      <td>31/10/2017</td>\n",
              "      <td>167.30</td>\n",
              "      <td>169.04</td>\n",
              "      <td>166.34</td>\n",
              "      <td>168.43</td>\n",
              "      <td>36176411</td>\n",
              "      <td>0</td>\n",
              "    </tr>\n",
              "  </tbody>\n",
              "</table>\n",
              "</div>"
            ],
            "text/plain": [
              "          Date    Open    High     Low   Close    Volume  OpenInt\n",
              "0   02/10/2017  153.71  153.90  152.17  153.26  18749860        0\n",
              "1   03/10/2017  153.46  154.53  153.36  153.92  16277486        0\n",
              "2   04/10/2017  153.08  153.31  151.91  152.93  20188277        0\n",
              "3   05/10/2017  153.63  154.88  153.50  154.83  21341803        0\n",
              "4   06/10/2017  154.41  154.93  154.01  154.74  17448243        0\n",
              "5   09/10/2017  155.25  156.17  154.93  155.28  16302190        0\n",
              "6   10/10/2017  155.50  157.43  154.54  155.34  15659866        0\n",
              "7   11/10/2017  155.41  156.42  155.19  155.99  16942261        0\n",
              "8   12/10/2017  155.79  156.81  155.17  155.44  16440001        0\n",
              "9   13/10/2017  156.17  156.72  155.85  156.43  16432666        0\n",
              "10  16/10/2017  157.33  159.43  157.09  159.31  24182814        0\n",
              "11  17/10/2017  159.21  160.29  158.66  159.90  19040557        0\n",
              "12  18/10/2017  159.85  160.13  159.03  159.19  16314850        0\n",
              "13  19/10/2017  156.19  156.52  154.46  155.42  42539211        0\n",
              "14  20/10/2017  156.05  157.18  155.40  155.69  23997615        0\n",
              "15  23/10/2017  156.33  157.13  154.94  155.61  22039067        0\n",
              "16  24/10/2017  155.73  156.86  155.64  156.54  17701740        0\n",
              "17  25/10/2017  156.35  156.99  154.71  155.85  21253629        0\n",
              "18  26/10/2017  156.67  157.26  156.22  156.85  16993593        0\n",
              "19  27/10/2017  158.72  163.01  158.13  162.47  44561025        0\n",
              "20  30/10/2017  163.30  167.47  163.13  166.12  44861465        0\n",
              "21  31/10/2017  167.30  169.04  166.34  168.43  36176411        0"
            ]
          },
          "metadata": {
            "tags": []
          },
          "execution_count": 2
        }
      ]
    },
    {
      "cell_type": "code",
      "metadata": {
        "id": "aYdIhQjVSvUA",
        "colab": {
          "base_uri": "https://localhost:8080/",
          "height": 204
        },
        "outputId": "43793fac-5ad6-4a00-c793-e1e85d0897a9"
      },
      "source": [
        "df.tail()"
      ],
      "execution_count": 3,
      "outputs": [
        {
          "output_type": "execute_result",
          "data": {
            "text/html": [
              "<div>\n",
              "<style scoped>\n",
              "    .dataframe tbody tr th:only-of-type {\n",
              "        vertical-align: middle;\n",
              "    }\n",
              "\n",
              "    .dataframe tbody tr th {\n",
              "        vertical-align: top;\n",
              "    }\n",
              "\n",
              "    .dataframe thead th {\n",
              "        text-align: right;\n",
              "    }\n",
              "</style>\n",
              "<table border=\"1\" class=\"dataframe\">\n",
              "  <thead>\n",
              "    <tr style=\"text-align: right;\">\n",
              "      <th></th>\n",
              "      <th>Date</th>\n",
              "      <th>Open</th>\n",
              "      <th>High</th>\n",
              "      <th>Low</th>\n",
              "      <th>Close</th>\n",
              "      <th>Volume</th>\n",
              "      <th>OpenInt</th>\n",
              "    </tr>\n",
              "  </thead>\n",
              "  <tbody>\n",
              "    <tr>\n",
              "      <th>17</th>\n",
              "      <td>25/10/2017</td>\n",
              "      <td>156.35</td>\n",
              "      <td>156.99</td>\n",
              "      <td>154.71</td>\n",
              "      <td>155.85</td>\n",
              "      <td>21253629</td>\n",
              "      <td>0</td>\n",
              "    </tr>\n",
              "    <tr>\n",
              "      <th>18</th>\n",
              "      <td>26/10/2017</td>\n",
              "      <td>156.67</td>\n",
              "      <td>157.26</td>\n",
              "      <td>156.22</td>\n",
              "      <td>156.85</td>\n",
              "      <td>16993593</td>\n",
              "      <td>0</td>\n",
              "    </tr>\n",
              "    <tr>\n",
              "      <th>19</th>\n",
              "      <td>27/10/2017</td>\n",
              "      <td>158.72</td>\n",
              "      <td>163.01</td>\n",
              "      <td>158.13</td>\n",
              "      <td>162.47</td>\n",
              "      <td>44561025</td>\n",
              "      <td>0</td>\n",
              "    </tr>\n",
              "    <tr>\n",
              "      <th>20</th>\n",
              "      <td>30/10/2017</td>\n",
              "      <td>163.30</td>\n",
              "      <td>167.47</td>\n",
              "      <td>163.13</td>\n",
              "      <td>166.12</td>\n",
              "      <td>44861465</td>\n",
              "      <td>0</td>\n",
              "    </tr>\n",
              "    <tr>\n",
              "      <th>21</th>\n",
              "      <td>31/10/2017</td>\n",
              "      <td>167.30</td>\n",
              "      <td>169.04</td>\n",
              "      <td>166.34</td>\n",
              "      <td>168.43</td>\n",
              "      <td>36176411</td>\n",
              "      <td>0</td>\n",
              "    </tr>\n",
              "  </tbody>\n",
              "</table>\n",
              "</div>"
            ],
            "text/plain": [
              "          Date    Open    High     Low   Close    Volume  OpenInt\n",
              "17  25/10/2017  156.35  156.99  154.71  155.85  21253629        0\n",
              "18  26/10/2017  156.67  157.26  156.22  156.85  16993593        0\n",
              "19  27/10/2017  158.72  163.01  158.13  162.47  44561025        0\n",
              "20  30/10/2017  163.30  167.47  163.13  166.12  44861465        0\n",
              "21  31/10/2017  167.30  169.04  166.34  168.43  36176411        0"
            ]
          },
          "metadata": {
            "tags": []
          },
          "execution_count": 3
        }
      ]
    },
    {
      "cell_type": "code",
      "metadata": {
        "colab": {
          "base_uri": "https://localhost:8080/"
        },
        "id": "uo2wQ8OwA66F",
        "outputId": "908822bc-3640-4004-e9e3-431e3a203faf"
      },
      "source": [
        "#Get the number of rows and columns\r\n",
        "df.shape"
      ],
      "execution_count": 4,
      "outputs": [
        {
          "output_type": "execute_result",
          "data": {
            "text/plain": [
              "(22, 7)"
            ]
          },
          "metadata": {
            "tags": []
          },
          "execution_count": 4
        }
      ]
    },
    {
      "cell_type": "code",
      "metadata": {
        "colab": {
          "base_uri": "https://localhost:8080/",
          "height": 80
        },
        "id": "-p0qiNdcBQdP",
        "outputId": "276c4a4a-aa48-4b2c-8239-25e6a7864a9e"
      },
      "source": [
        "#Get and print the last row of data\r\n",
        "actual_price = df.tail(1)\r\n",
        "actual_price"
      ],
      "execution_count": 5,
      "outputs": [
        {
          "output_type": "execute_result",
          "data": {
            "text/html": [
              "<div>\n",
              "<style scoped>\n",
              "    .dataframe tbody tr th:only-of-type {\n",
              "        vertical-align: middle;\n",
              "    }\n",
              "\n",
              "    .dataframe tbody tr th {\n",
              "        vertical-align: top;\n",
              "    }\n",
              "\n",
              "    .dataframe thead th {\n",
              "        text-align: right;\n",
              "    }\n",
              "</style>\n",
              "<table border=\"1\" class=\"dataframe\">\n",
              "  <thead>\n",
              "    <tr style=\"text-align: right;\">\n",
              "      <th></th>\n",
              "      <th>Date</th>\n",
              "      <th>Open</th>\n",
              "      <th>High</th>\n",
              "      <th>Low</th>\n",
              "      <th>Close</th>\n",
              "      <th>Volume</th>\n",
              "      <th>OpenInt</th>\n",
              "    </tr>\n",
              "  </thead>\n",
              "  <tbody>\n",
              "    <tr>\n",
              "      <th>21</th>\n",
              "      <td>31/10/2017</td>\n",
              "      <td>167.3</td>\n",
              "      <td>169.04</td>\n",
              "      <td>166.34</td>\n",
              "      <td>168.43</td>\n",
              "      <td>36176411</td>\n",
              "      <td>0</td>\n",
              "    </tr>\n",
              "  </tbody>\n",
              "</table>\n",
              "</div>"
            ],
            "text/plain": [
              "          Date   Open    High     Low   Close    Volume  OpenInt\n",
              "21  31/10/2017  167.3  169.04  166.34  168.43  36176411        0"
            ]
          },
          "metadata": {
            "tags": []
          },
          "execution_count": 5
        }
      ]
    },
    {
      "cell_type": "code",
      "metadata": {
        "colab": {
          "base_uri": "https://localhost:8080/"
        },
        "id": "P3Usk3FPBjPn",
        "outputId": "49bf2b5d-c5ef-459c-a420-46b33a248ee1"
      },
      "source": [
        "#Prepare the data for training the SVR models\r\n",
        "#Get all of the data except for the last row\r\n",
        "df = df.head(len(df) - 1)\r\n",
        "#Print the new data set\r\n",
        "print(df)"
      ],
      "execution_count": 6,
      "outputs": [
        {
          "output_type": "stream",
          "text": [
            "          Date    Open    High     Low   Close    Volume  OpenInt\n",
            "0   02/10/2017  153.71  153.90  152.17  153.26  18749860        0\n",
            "1   03/10/2017  153.46  154.53  153.36  153.92  16277486        0\n",
            "2   04/10/2017  153.08  153.31  151.91  152.93  20188277        0\n",
            "3   05/10/2017  153.63  154.88  153.50  154.83  21341803        0\n",
            "4   06/10/2017  154.41  154.93  154.01  154.74  17448243        0\n",
            "5   09/10/2017  155.25  156.17  154.93  155.28  16302190        0\n",
            "6   10/10/2017  155.50  157.43  154.54  155.34  15659866        0\n",
            "7   11/10/2017  155.41  156.42  155.19  155.99  16942261        0\n",
            "8   12/10/2017  155.79  156.81  155.17  155.44  16440001        0\n",
            "9   13/10/2017  156.17  156.72  155.85  156.43  16432666        0\n",
            "10  16/10/2017  157.33  159.43  157.09  159.31  24182814        0\n",
            "11  17/10/2017  159.21  160.29  158.66  159.90  19040557        0\n",
            "12  18/10/2017  159.85  160.13  159.03  159.19  16314850        0\n",
            "13  19/10/2017  156.19  156.52  154.46  155.42  42539211        0\n",
            "14  20/10/2017  156.05  157.18  155.40  155.69  23997615        0\n",
            "15  23/10/2017  156.33  157.13  154.94  155.61  22039067        0\n",
            "16  24/10/2017  155.73  156.86  155.64  156.54  17701740        0\n",
            "17  25/10/2017  156.35  156.99  154.71  155.85  21253629        0\n",
            "18  26/10/2017  156.67  157.26  156.22  156.85  16993593        0\n",
            "19  27/10/2017  158.72  163.01  158.13  162.47  44561025        0\n",
            "20  30/10/2017  163.30  167.47  163.13  166.12  44861465        0\n"
          ],
          "name": "stdout"
        }
      ]
    },
    {
      "cell_type": "code",
      "metadata": {
        "id": "6VhDbNstCD9E"
      },
      "source": [
        "#Create empty lists to store the independent and dependent data\r\n",
        "days = list()\r\n",
        "close_prices = list()"
      ],
      "execution_count": 7,
      "outputs": []
    },
    {
      "cell_type": "code",
      "metadata": {
        "id": "ya2GVlqnCXNU"
      },
      "source": [
        "#Get the dates and close prices\r\n",
        "df_days = df.loc[:, 'Date']\r\n",
        "df_close = df.loc[:, 'Close']"
      ],
      "execution_count": 8,
      "outputs": []
    },
    {
      "cell_type": "code",
      "metadata": {
        "id": "oZmEwFdmCq6D"
      },
      "source": [
        "#Create the independent data set\r\n",
        "for day in df_days:\r\n",
        "    days.append( [int(day.split('/')[0])] )\r\n",
        "\r\n",
        "#Create the dependent data set\r\n",
        "for close_price in df_close:\r\n",
        "  close_prices.append(float(close_price) )"
      ],
      "execution_count": 9,
      "outputs": []
    },
    {
      "cell_type": "code",
      "metadata": {
        "colab": {
          "base_uri": "https://localhost:8080/"
        },
        "id": "v6kUvWk6DCqg",
        "outputId": "38fca6fb-8715-492a-9b9b-edb8ca5789f5"
      },
      "source": [
        "#Print the days and the close prices\r\n",
        "print(days)\r\n",
        "print(close_prices)"
      ],
      "execution_count": 10,
      "outputs": [
        {
          "output_type": "stream",
          "text": [
            "[[2], [3], [4], [5], [6], [9], [10], [11], [12], [13], [16], [17], [18], [19], [20], [23], [24], [25], [26], [27], [30]]\n",
            "[153.26, 153.92, 152.93, 154.83, 154.74, 155.28, 155.34, 155.99, 155.44, 156.43, 159.31, 159.9, 159.19, 155.42, 155.69, 155.61, 156.54, 155.85, 156.85, 162.47, 166.12]\n"
          ],
          "name": "stdout"
        }
      ]
    },
    {
      "cell_type": "code",
      "metadata": {
        "colab": {
          "base_uri": "https://localhost:8080/"
        },
        "id": "dHkcHsjpFNLB",
        "outputId": "4d2400d4-cdfb-4e15-bdc5-1ca526d9fe37"
      },
      "source": [
        "#Create the 3 Support Vector Regression Models\r\n",
        "\r\n",
        "#Create and train a SVR model using a linear kernel\r\n",
        "lin_svr = SVR(kernel= 'linear', C = 1000.0)\r\n",
        "lin_svr.fit(days, close_prices)"
      ],
      "execution_count": 11,
      "outputs": [
        {
          "output_type": "execute_result",
          "data": {
            "text/plain": [
              "SVR(C=1000.0, cache_size=200, coef0=0.0, degree=3, epsilon=0.1, gamma='scale',\n",
              "    kernel='linear', max_iter=-1, shrinking=True, tol=0.001, verbose=False)"
            ]
          },
          "metadata": {
            "tags": []
          },
          "execution_count": 11
        }
      ]
    },
    {
      "cell_type": "code",
      "metadata": {
        "colab": {
          "base_uri": "https://localhost:8080/"
        },
        "id": "ukbbdSx6JUUa",
        "outputId": "74c2684f-06a0-4b7c-da44-d324724df577"
      },
      "source": [
        "#Create and train a SVR model using a polynomial kernel\r\n",
        "poly_svr = SVR(kernel= 'poly', C = 1000.0, degree = 2)\r\n",
        "poly_svr.fit(days, close_prices)"
      ],
      "execution_count": 12,
      "outputs": [
        {
          "output_type": "execute_result",
          "data": {
            "text/plain": [
              "SVR(C=1000.0, cache_size=200, coef0=0.0, degree=2, epsilon=0.1, gamma='scale',\n",
              "    kernel='poly', max_iter=-1, shrinking=True, tol=0.001, verbose=False)"
            ]
          },
          "metadata": {
            "tags": []
          },
          "execution_count": 12
        }
      ]
    },
    {
      "cell_type": "code",
      "metadata": {
        "colab": {
          "base_uri": "https://localhost:8080/"
        },
        "id": "DGLIoOG2Kwwr",
        "outputId": "c87cf4d3-9c00-4458-ce3d-b6220288302e"
      },
      "source": [
        "#Create and train a SVR model using a rbf kernel\r\n",
        "rbf_svr = SVR(kernel= 'rbf', C = 1000.0, gamma = 0.15)\r\n",
        "rbf_svr.fit(days, close_prices)"
      ],
      "execution_count": 13,
      "outputs": [
        {
          "output_type": "execute_result",
          "data": {
            "text/plain": [
              "SVR(C=1000.0, cache_size=200, coef0=0.0, degree=3, epsilon=0.1, gamma=0.15,\n",
              "    kernel='rbf', max_iter=-1, shrinking=True, tol=0.001, verbose=False)"
            ]
          },
          "metadata": {
            "tags": []
          },
          "execution_count": 13
        }
      ]
    },
    {
      "cell_type": "code",
      "metadata": {
        "colab": {
          "base_uri": "https://localhost:8080/",
          "height": 479
        },
        "id": "Wmb0yCs3IZ79",
        "outputId": "9f9640f0-10a4-4dd4-d06c-fa106c05c396"
      },
      "source": [
        "plt.figure(figsize=(16,8))\r\n",
        "plt.scatter(days, close_prices, color = 'red', label = 'Data')\r\n",
        "plt.plot(days, rbf_svr.predict(days), color = 'green', label = 'RBF Model')\r\n",
        "plt.plot(days, poly_svr.predict(days), color = 'orange', label = 'Polynomial Model')\r\n",
        "plt.plot(days, lin_svr.predict(days), color = 'blue', label = 'Linear Model')\r\n",
        "plt.legend()\r\n",
        "plt.show()"
      ],
      "execution_count": 14,
      "outputs": [
        {
          "output_type": "display_data",
          "data": {
            "image/png": "[encoded data removed]",
            "text/plain": [
              "<Figure size 1152x576 with 1 Axes>"
            ]
          },
          "metadata": {
            "tags": [],
            "needs_background": "light"
          }
        }
      ]
    },
    {
      "cell_type": "code",
      "metadata": {
        "colab": {
          "base_uri": "https://localhost:8080/"
        },
        "id": "oSuZXkT4RwQz",
        "outputId": "0949a7aa-ff1f-428b-ac4d-52e80d5bc923"
      },
      "source": [
        "#Show the predicted price for the given day\r\n",
        "day = [[31]]\r\n",
        "\r\n",
        "print('The RBF SVR predicted:', rbf_svr.predict(day))\r\n",
        "print('The Linear SVR predicted:', lin_svr.predict(day))\r\n",
        "print('The Polynomial SVR predicted:', poly_svr.predict(day))"
      ],
      "execution_count": 15,
      "outputs": [
        {
          "output_type": "stream",
          "text": [
            "The RBF SVR predicted: [162.43866672]\n",
            "The Linear SVR predicted: [157.47857143]\n",
            "The Polynomial SVR predicted: [157.83029121]\n"
          ],
          "name": "stdout"
        }
      ]
    },
    {
      "cell_type": "code",
      "metadata": {
        "colab": {
          "base_uri": "https://localhost:8080/"
        },
        "id": "4IiVSHdRSQsa",
        "outputId": "5a7574b0-ab1e-4371-e368-c3c04e1e10a2"
      },
      "source": [
        "#Print the actual price of the stock on day 31\r\n",
        "print('The actual price:', actual_price['Close'])"
      ],
      "execution_count": 16,
      "outputs": [
        {
          "output_type": "stream",
          "text": [
            "The actual price: 21    168.43\n",
            "Name: Close, dtype: float64\n"
          ],
          "name": "stdout"
        }
      ]
    }
  ]
}