{
  "nbformat": 4,
  "nbformat_minor": 0,
  "metadata": {
    "colab": {
      "name": "experiment on open price for 100 features data_2014_onwards.ipynb",
      "provenance": [],
      "collapsed_sections": [],
      "toc_visible": true,
      "mount_file_id": "1kRxDtqQgJOcAzXe1s9Y0yHYlvCAOAa6m",
      "authorship_tag": "ABX9TyPwE/+v7G4mW5j7V9wKl98U",
      "include_colab_link": true
    },
    "kernelspec": {
      "name": "python3",
      "display_name": "Python 3"
    }
  },
  "cells": [
    {
      "cell_type": "markdown",
      "metadata": {
        "id": "view-in-github",
        "colab_type": "text"
      },
      "source": [
        "<a href=\"https://colab.research.google.com/github/EErasmus/System-Modeling-and-Analysis-Project/blob/master/code/experiment_on_open_price_for_100_features_data_2014_onwards.ipynb\" target=\"_parent\"><img src=\"https://colab.research.google.com/assets/colab-badge.svg\" alt=\"Open In Colab\"/></a>"
      ]
    },
    {
      "cell_type": "code",
      "metadata": {
        "id": "TFcRxtOSKuV-",
        "colab": {
          "base_uri": "https://localhost:8080/"
        },
        "outputId": "bdb0600b-a7ed-45d7-ca24-a7833166f878"
      },
      "source": [
        "import matplotlib.pyplot as plt\n",
        "import pandas as pd\n",
        "import numpy as np\n",
        "import sklearn as skl\n",
        "from sklearn.model_selection import train_test_split\n",
        "from sklearn.preprocessing import MinMaxScaler\n",
        "\n",
        "\n",
        "dateparse = lambda dates: pd.datetime.strptime(dates, '%Y-%m-%d')\n",
        "data = pd.read_csv('/content/drive/My Drive/Colab Notebooks/aapl.us.txt',sep=',', index_col='Date', parse_dates=['Date'], date_parser=dateparse).fillna(0)\n",
        "#plot close price\n",
        "#plt.figure(figsize=(10,6))\n",
        "# plt.grid(True)\n",
        "# plt.xlabel('Year')\n",
        "# plt.ylabel('Close Prices')\n",
        "# All months data of 2017 for Close price\n",
        "#data.tail()\n",
        "#plt.title('All months data of 2017 for Close price')\n",
        "#plt.plot(data.loc['2017-01-01':'2017-12-31']['Close'])\n",
        "#plt.figure()\n",
        "## Difference of close values for each date\n",
        "#plt.title('Difference of close values for each date')\n",
        "#plt.plot(np.diff(data.loc['2017-01-01':'2017-12-31']['Close']))\n",
        "#plt.figure()\n",
        "## Histogram for values\n",
        "#plt.title('Histogram for values of Close for each date')\n",
        "#plt.hist(np.diff(data.loc['2017-01-01':'2017-12-31']['Close']))\n",
        "## plt.title('Closing Price')\n",
        "## plt.show()\n",
        "#plt.figure(figsize=(10,6))\n",
        "## plt.grid(True)\n",
        "## plt.xlabel('Year')\n",
        "## plt.ylabel('Close Prices')\n",
        "## All close date in file\n",
        "#plt.title('All Close prices in file')\n",
        "#plt.plot(data['Close'])\n",
        "#plt.figure()\n",
        "## Difference of Close prices\n",
        "#plt.title('Difference of Close prices in file')\n",
        "#plt.plot(np.diff(data['Close']))\n",
        "#plt.figure()\n",
        "## Histogram for whole data\n",
        "#plt.title('Histogram for whole Close prices in file')\n",
        "#plt.hist(np.diff(data['Close']))\n",
        "#plt.figure()\n",
        "#df_close = data['Close']\n",
        "#df_close.plot(style='k.')\n",
        "#plt.title('Scatter plot of closing price')\n",
        "#plt.show()\n",
        "##data.shape\n",
        "## train, test = train_test_split(data, test_size=0.33)\n",
        "#data.head()\n",
        "data = data.loc['2014-01-01':'2017-12-31']\n",
        "df1=data.reset_index()['Open']\n",
        "#df1\n",
        "#plt.plot(df1)\n",
        "scaler=MinMaxScaler(feature_range=(0,1))\n",
        "df1=scaler.fit_transform(np.array(df1).reshape(-1,1))\n",
        "#print(df1)\n",
        "training_size=int(len(df1)*0.67)\n",
        "test_size=len(df1)-training_size\n",
        "train_data,test_data=df1[0:training_size,:],df1[training_size:len(df1),:1]\n",
        "training_size,test_size\n",
        "\n",
        "# convert an array of values into a dataset matrix\n",
        "def create_dataset(dataset, time_step=1):\n",
        "\tdataX, dataY = [], []\n",
        "\tfor i in range(len(dataset)-time_step-1):\n",
        "\t\ta = dataset[i:(i+time_step), 0]   ###i=0, 0,1,2,3-----99   100 \n",
        "\t\tdataX.append(a)\n",
        "\t\tdataY.append(dataset[i + time_step, 0])\n",
        "\treturn np.array(dataX), np.array(dataY)\n",
        " \n",
        " \n",
        "# reshape into X=t,t+1,t+2,t+3 and Y=t+4\n",
        "time_step = 100\n",
        "X_train, y_train = create_dataset(train_data, time_step)\n",
        "X_test, ytest = create_dataset(test_data, time_step)\n",
        "#print(X_train.shape), print(y_train.shape)\n",
        "\n",
        "# reshape input to be [samples, time steps, features] which is required for LSTM\n",
        "X_train =X_train.reshape(X_train.shape[0],X_train.shape[1] , 1)\n",
        "X_test = X_test.reshape(X_test.shape[0],X_test.shape[1] , 1)\n",
        "\n",
        "#X_train, X_test"
      ],
      "execution_count": 2,
      "outputs": [
        {
          "output_type": "stream",
          "text": [
            "/usr/local/lib/python3.6/dist-packages/ipykernel_launcher.py:9: FutureWarning: The pandas.datetime class is deprecated and will be removed from pandas in a future version. Import from datetime instead.\n",
            "  if __name__ == '__main__':\n"
          ],
          "name": "stderr"
        }
      ]
    },
    {
      "cell_type": "code",
      "metadata": {
        "colab": {
          "base_uri": "https://localhost:8080/"
        },
        "id": "JSS3pwF50pxL",
        "outputId": "48b592bd-8c4f-446a-a0c1-27527eabc934"
      },
      "source": [
        "### Create the Stacked LSTM model\r\n",
        "from tensorflow.keras.models import Sequential\r\n",
        "from tensorflow.keras.layers import Dense\r\n",
        "from tensorflow.keras.layers import LSTM\r\n",
        "\r\n",
        "model=Sequential()\r\n",
        "model.add(LSTM(50,return_sequences=True,input_shape=(100,1)))\r\n",
        "model.add(LSTM(50,return_sequences=True))\r\n",
        "model.add(LSTM(50))\r\n",
        "model.add(Dense(1))\r\n",
        "model.compile(loss='mean_squared_error',optimizer='adam')\r\n",
        "model.summary()"
      ],
      "execution_count": 3,
      "outputs": [
        {
          "output_type": "stream",
          "text": [
            "Model: \"sequential\"\n",
            "_________________________________________________________________\n",
            "Layer (type)                 Output Shape              Param #   \n",
            "=================================================================\n",
            "lstm (LSTM)                  (None, 100, 50)           10400     \n",
            "_________________________________________________________________\n",
            "lstm_1 (LSTM)                (None, 100, 50)           20200     \n",
            "_________________________________________________________________\n",
            "lstm_2 (LSTM)                (None, 50)                20200     \n",
            "_________________________________________________________________\n",
            "dense (Dense)                (None, 1)                 51        \n",
            "=================================================================\n",
            "Total params: 50,851\n",
            "Trainable params: 50,851\n",
            "Non-trainable params: 0\n",
            "_________________________________________________________________\n"
          ],
          "name": "stdout"
        }
      ]
    },
    {
      "cell_type": "code",
      "metadata": {
        "colab": {
          "base_uri": "https://localhost:8080/"
        },
        "id": "KFPPw5_P1Az7",
        "outputId": "0c513e9c-d642-4b62-ac36-67e435490389"
      },
      "source": [
        "model.fit(X_train,y_train,validation_data=(X_test,ytest),epochs=100,batch_size=64,verbose=1)"
      ],
      "execution_count": 4,
      "outputs": [
        {
          "output_type": "stream",
          "text": [
            "Epoch 1/100\n",
            "9/9 [==============================] - 7s 303ms/step - loss: 0.1060 - val_loss: 0.0030\n",
            "Epoch 2/100\n",
            "9/9 [==============================] - 2s 178ms/step - loss: 0.0107 - val_loss: 0.0963\n",
            "Epoch 3/100\n",
            "9/9 [==============================] - 2s 181ms/step - loss: 0.0060 - val_loss: 0.0202\n",
            "Epoch 4/100\n",
            "9/9 [==============================] - 2s 180ms/step - loss: 0.0048 - val_loss: 0.0556\n",
            "Epoch 5/100\n",
            "9/9 [==============================] - 2s 182ms/step - loss: 0.0031 - val_loss: 0.0228\n",
            "Epoch 6/100\n",
            "9/9 [==============================] - 2s 181ms/step - loss: 0.0030 - val_loss: 0.0354\n",
            "Epoch 7/100\n",
            "9/9 [==============================] - 2s 181ms/step - loss: 0.0025 - val_loss: 0.0153\n",
            "Epoch 8/100\n",
            "9/9 [==============================] - 2s 181ms/step - loss: 0.0021 - val_loss: 0.0155\n",
            "Epoch 9/100\n",
            "9/9 [==============================] - 2s 184ms/step - loss: 0.0019 - val_loss: 0.0117\n",
            "Epoch 10/100\n",
            "9/9 [==============================] - 2s 180ms/step - loss: 0.0016 - val_loss: 0.0070\n",
            "Epoch 11/100\n",
            "9/9 [==============================] - 2s 180ms/step - loss: 0.0018 - val_loss: 0.0060\n",
            "Epoch 12/100\n",
            "9/9 [==============================] - 2s 182ms/step - loss: 0.0017 - val_loss: 0.0051\n",
            "Epoch 13/100\n",
            "9/9 [==============================] - 2s 180ms/step - loss: 0.0016 - val_loss: 0.0060\n",
            "Epoch 14/100\n",
            "9/9 [==============================] - 2s 183ms/step - loss: 0.0017 - val_loss: 0.0046\n",
            "Epoch 15/100\n",
            "9/9 [==============================] - 2s 182ms/step - loss: 0.0016 - val_loss: 0.0055\n",
            "Epoch 16/100\n",
            "9/9 [==============================] - 2s 182ms/step - loss: 0.0014 - val_loss: 0.0069\n",
            "Epoch 17/100\n",
            "9/9 [==============================] - 2s 180ms/step - loss: 0.0015 - val_loss: 0.0063\n",
            "Epoch 18/100\n",
            "9/9 [==============================] - 2s 181ms/step - loss: 0.0015 - val_loss: 0.0048\n",
            "Epoch 19/100\n",
            "9/9 [==============================] - 2s 183ms/step - loss: 0.0014 - val_loss: 0.0044\n",
            "Epoch 20/100\n",
            "9/9 [==============================] - 2s 184ms/step - loss: 0.0014 - val_loss: 0.0048\n",
            "Epoch 21/100\n",
            "9/9 [==============================] - 2s 179ms/step - loss: 0.0013 - val_loss: 0.0066\n",
            "Epoch 22/100\n",
            "9/9 [==============================] - 2s 184ms/step - loss: 0.0014 - val_loss: 0.0058\n",
            "Epoch 23/100\n",
            "9/9 [==============================] - 2s 181ms/step - loss: 0.0013 - val_loss: 0.0034\n",
            "Epoch 24/100\n",
            "9/9 [==============================] - 2s 183ms/step - loss: 0.0012 - val_loss: 0.0039\n",
            "Epoch 25/100\n",
            "9/9 [==============================] - 2s 199ms/step - loss: 0.0013 - val_loss: 0.0024\n",
            "Epoch 26/100\n",
            "9/9 [==============================] - 2s 180ms/step - loss: 0.0011 - val_loss: 0.0020\n",
            "Epoch 27/100\n",
            "9/9 [==============================] - 2s 181ms/step - loss: 0.0012 - val_loss: 0.0015\n",
            "Epoch 28/100\n",
            "9/9 [==============================] - 2s 181ms/step - loss: 0.0012 - val_loss: 0.0024\n",
            "Epoch 29/100\n",
            "9/9 [==============================] - 2s 181ms/step - loss: 0.0010 - val_loss: 0.0041\n",
            "Epoch 30/100\n",
            "9/9 [==============================] - 2s 181ms/step - loss: 0.0012 - val_loss: 0.0076\n",
            "Epoch 31/100\n",
            "9/9 [==============================] - 2s 182ms/step - loss: 0.0011 - val_loss: 0.0025\n",
            "Epoch 32/100\n",
            "9/9 [==============================] - 2s 182ms/step - loss: 0.0011 - val_loss: 0.0013\n",
            "Epoch 33/100\n",
            "9/9 [==============================] - 2s 181ms/step - loss: 0.0011 - val_loss: 0.0012\n",
            "Epoch 34/100\n",
            "9/9 [==============================] - 2s 183ms/step - loss: 0.0011 - val_loss: 0.0015\n",
            "Epoch 35/100\n",
            "9/9 [==============================] - 2s 185ms/step - loss: 9.6196e-04 - val_loss: 0.0021\n",
            "Epoch 36/100\n",
            "9/9 [==============================] - 2s 181ms/step - loss: 0.0010 - val_loss: 0.0033\n",
            "Epoch 37/100\n",
            "9/9 [==============================] - 2s 183ms/step - loss: 0.0011 - val_loss: 0.0020\n",
            "Epoch 38/100\n",
            "9/9 [==============================] - 2s 181ms/step - loss: 9.9144e-04 - val_loss: 0.0021\n",
            "Epoch 39/100\n",
            "9/9 [==============================] - 2s 183ms/step - loss: 9.6322e-04 - val_loss: 0.0012\n",
            "Epoch 40/100\n",
            "9/9 [==============================] - 2s 183ms/step - loss: 0.0010 - val_loss: 0.0029\n",
            "Epoch 41/100\n",
            "9/9 [==============================] - 2s 185ms/step - loss: 9.5827e-04 - val_loss: 0.0014\n",
            "Epoch 42/100\n",
            "9/9 [==============================] - 2s 184ms/step - loss: 9.4864e-04 - val_loss: 9.2932e-04\n",
            "Epoch 43/100\n",
            "9/9 [==============================] - 2s 182ms/step - loss: 0.0010 - val_loss: 0.0010\n",
            "Epoch 44/100\n",
            "9/9 [==============================] - 2s 182ms/step - loss: 0.0010 - val_loss: 0.0027\n",
            "Epoch 45/100\n",
            "9/9 [==============================] - 2s 184ms/step - loss: 9.1384e-04 - val_loss: 0.0014\n",
            "Epoch 46/100\n",
            "9/9 [==============================] - 2s 182ms/step - loss: 8.3384e-04 - val_loss: 0.0012\n",
            "Epoch 47/100\n",
            "9/9 [==============================] - 2s 187ms/step - loss: 0.0010 - val_loss: 0.0028\n",
            "Epoch 48/100\n",
            "9/9 [==============================] - 2s 182ms/step - loss: 9.9635e-04 - val_loss: 0.0022\n",
            "Epoch 49/100\n",
            "9/9 [==============================] - 2s 183ms/step - loss: 8.6164e-04 - val_loss: 9.8208e-04\n",
            "Epoch 50/100\n",
            "9/9 [==============================] - 2s 182ms/step - loss: 8.6545e-04 - val_loss: 9.9225e-04\n",
            "Epoch 51/100\n",
            "9/9 [==============================] - 2s 186ms/step - loss: 8.2583e-04 - val_loss: 8.6621e-04\n",
            "Epoch 52/100\n",
            "9/9 [==============================] - 2s 184ms/step - loss: 7.9026e-04 - val_loss: 8.5886e-04\n",
            "Epoch 53/100\n",
            "9/9 [==============================] - 2s 182ms/step - loss: 8.8569e-04 - val_loss: 0.0021\n",
            "Epoch 54/100\n",
            "9/9 [==============================] - 2s 185ms/step - loss: 9.5170e-04 - val_loss: 0.0019\n",
            "Epoch 55/100\n",
            "9/9 [==============================] - 2s 181ms/step - loss: 8.2058e-04 - val_loss: 8.2397e-04\n",
            "Epoch 56/100\n",
            "9/9 [==============================] - 2s 184ms/step - loss: 9.2462e-04 - val_loss: 8.8212e-04\n",
            "Epoch 57/100\n",
            "9/9 [==============================] - 2s 181ms/step - loss: 8.6249e-04 - val_loss: 0.0026\n",
            "Epoch 58/100\n",
            "9/9 [==============================] - 2s 182ms/step - loss: 8.4608e-04 - val_loss: 0.0024\n",
            "Epoch 59/100\n",
            "9/9 [==============================] - 2s 182ms/step - loss: 7.7343e-04 - val_loss: 0.0018\n",
            "Epoch 60/100\n",
            "9/9 [==============================] - 2s 183ms/step - loss: 7.7141e-04 - val_loss: 9.3759e-04\n",
            "Epoch 61/100\n",
            "9/9 [==============================] - 2s 182ms/step - loss: 7.3535e-04 - val_loss: 0.0010\n",
            "Epoch 62/100\n",
            "9/9 [==============================] - 2s 181ms/step - loss: 8.4845e-04 - val_loss: 9.9531e-04\n",
            "Epoch 63/100\n",
            "9/9 [==============================] - 2s 183ms/step - loss: 8.3723e-04 - val_loss: 8.5131e-04\n",
            "Epoch 64/100\n",
            "9/9 [==============================] - 2s 178ms/step - loss: 8.4151e-04 - val_loss: 9.0955e-04\n",
            "Epoch 65/100\n",
            "9/9 [==============================] - 2s 179ms/step - loss: 8.2126e-04 - val_loss: 0.0012\n",
            "Epoch 66/100\n",
            "9/9 [==============================] - 2s 183ms/step - loss: 7.3106e-04 - val_loss: 7.9722e-04\n",
            "Epoch 67/100\n",
            "9/9 [==============================] - 2s 185ms/step - loss: 7.0196e-04 - val_loss: 0.0014\n",
            "Epoch 68/100\n",
            "9/9 [==============================] - 2s 183ms/step - loss: 9.2521e-04 - val_loss: 0.0027\n",
            "Epoch 69/100\n",
            "9/9 [==============================] - 2s 181ms/step - loss: 7.7081e-04 - val_loss: 7.6187e-04\n",
            "Epoch 70/100\n",
            "9/9 [==============================] - 2s 181ms/step - loss: 7.5007e-04 - val_loss: 9.9472e-04\n",
            "Epoch 71/100\n",
            "9/9 [==============================] - 2s 182ms/step - loss: 9.1199e-04 - val_loss: 7.7608e-04\n",
            "Epoch 72/100\n",
            "9/9 [==============================] - 2s 183ms/step - loss: 7.0704e-04 - val_loss: 0.0014\n",
            "Epoch 73/100\n",
            "9/9 [==============================] - 2s 184ms/step - loss: 8.1400e-04 - val_loss: 0.0012\n",
            "Epoch 74/100\n",
            "9/9 [==============================] - 2s 180ms/step - loss: 7.6275e-04 - val_loss: 8.3247e-04\n",
            "Epoch 75/100\n",
            "9/9 [==============================] - 2s 183ms/step - loss: 6.5272e-04 - val_loss: 7.1188e-04\n",
            "Epoch 76/100\n",
            "9/9 [==============================] - 2s 181ms/step - loss: 7.6143e-04 - val_loss: 7.9781e-04\n",
            "Epoch 77/100\n",
            "9/9 [==============================] - 2s 184ms/step - loss: 6.8568e-04 - val_loss: 7.6687e-04\n",
            "Epoch 78/100\n",
            "9/9 [==============================] - 2s 182ms/step - loss: 7.0993e-04 - val_loss: 0.0021\n",
            "Epoch 79/100\n",
            "9/9 [==============================] - 2s 201ms/step - loss: 8.4483e-04 - val_loss: 0.0016\n",
            "Epoch 80/100\n",
            "9/9 [==============================] - 2s 186ms/step - loss: 8.1931e-04 - val_loss: 7.9622e-04\n",
            "Epoch 81/100\n",
            "9/9 [==============================] - 2s 181ms/step - loss: 6.4326e-04 - val_loss: 6.7544e-04\n",
            "Epoch 82/100\n",
            "9/9 [==============================] - 2s 183ms/step - loss: 6.5662e-04 - val_loss: 0.0013\n",
            "Epoch 83/100\n",
            "9/9 [==============================] - 2s 184ms/step - loss: 7.2799e-04 - val_loss: 6.7700e-04\n",
            "Epoch 84/100\n",
            "9/9 [==============================] - 2s 184ms/step - loss: 5.9806e-04 - val_loss: 6.6870e-04\n",
            "Epoch 85/100\n",
            "9/9 [==============================] - 2s 184ms/step - loss: 6.4423e-04 - val_loss: 6.8671e-04\n",
            "Epoch 86/100\n",
            "9/9 [==============================] - 2s 182ms/step - loss: 6.2192e-04 - val_loss: 6.5632e-04\n",
            "Epoch 87/100\n",
            "9/9 [==============================] - 2s 182ms/step - loss: 5.5577e-04 - val_loss: 6.5404e-04\n",
            "Epoch 88/100\n",
            "9/9 [==============================] - 2s 185ms/step - loss: 6.0009e-04 - val_loss: 8.2983e-04\n",
            "Epoch 89/100\n",
            "9/9 [==============================] - 2s 182ms/step - loss: 6.6961e-04 - val_loss: 6.5433e-04\n",
            "Epoch 90/100\n",
            "9/9 [==============================] - 2s 185ms/step - loss: 5.9099e-04 - val_loss: 6.3952e-04\n",
            "Epoch 91/100\n",
            "9/9 [==============================] - 2s 189ms/step - loss: 5.6921e-04 - val_loss: 6.2653e-04\n",
            "Epoch 92/100\n",
            "9/9 [==============================] - 2s 190ms/step - loss: 5.6093e-04 - val_loss: 6.1611e-04\n",
            "Epoch 93/100\n",
            "9/9 [==============================] - 2s 187ms/step - loss: 5.6849e-04 - val_loss: 6.8779e-04\n",
            "Epoch 94/100\n",
            "9/9 [==============================] - 2s 195ms/step - loss: 5.8468e-04 - val_loss: 7.5055e-04\n",
            "Epoch 95/100\n",
            "9/9 [==============================] - 2s 189ms/step - loss: 5.3484e-04 - val_loss: 9.3178e-04\n",
            "Epoch 96/100\n",
            "9/9 [==============================] - 2s 184ms/step - loss: 5.6404e-04 - val_loss: 0.0016\n",
            "Epoch 97/100\n",
            "9/9 [==============================] - 2s 182ms/step - loss: 7.3648e-04 - val_loss: 7.8302e-04\n",
            "Epoch 98/100\n",
            "9/9 [==============================] - 2s 184ms/step - loss: 5.6420e-04 - val_loss: 6.4649e-04\n",
            "Epoch 99/100\n",
            "9/9 [==============================] - 2s 182ms/step - loss: 5.5977e-04 - val_loss: 0.0013\n",
            "Epoch 100/100\n",
            "9/9 [==============================] - 2s 182ms/step - loss: 7.9914e-04 - val_loss: 0.0021\n"
          ],
          "name": "stdout"
        },
        {
          "output_type": "execute_result",
          "data": {
            "text/plain": [
              "<tensorflow.python.keras.callbacks.History at 0x7f752b20cac8>"
            ]
          },
          "metadata": {
            "tags": []
          },
          "execution_count": 4
        }
      ]
    },
    {
      "cell_type": "code",
      "metadata": {
        "id": "X76fHPuy70ff"
      },
      "source": [
        "import tensorflow as tf\r\n",
        "### prediction and check performance metrics\r\n",
        "train_predict=model.predict(X_train)\r\n",
        "test_predict=model.predict(X_test)"
      ],
      "execution_count": 5,
      "outputs": []
    },
    {
      "cell_type": "code",
      "metadata": {
        "id": "wuv-iSJv8Yux"
      },
      "source": [
        "##Transformback to original form\r\n",
        "train_predict=scaler.inverse_transform(train_predict)\r\n",
        "test_predict=scaler.inverse_transform(test_predict)"
      ],
      "execution_count": 6,
      "outputs": []
    },
    {
      "cell_type": "code",
      "metadata": {
        "colab": {
          "base_uri": "https://localhost:8080/"
        },
        "id": "-lKJZ3Tr8ccM",
        "outputId": "624bf19f-306e-402b-f8bf-e0e4ba6d2290"
      },
      "source": [
        "import math \r\n",
        "from sklearn.metrics import mean_squared_error\r\n",
        "math.sqrt(mean_squared_error(y_train,train_predict))"
      ],
      "execution_count": 7,
      "outputs": [
        {
          "output_type": "execute_result",
          "data": {
            "text/plain": [
              "107.24299810883"
            ]
          },
          "metadata": {
            "tags": []
          },
          "execution_count": 7
        }
      ]
    },
    {
      "cell_type": "code",
      "metadata": {
        "colab": {
          "base_uri": "https://localhost:8080/"
        },
        "id": "wI7NT1pB8jZG",
        "outputId": "a6d3debc-e71a-41c8-9733-0b44e6e0b28f"
      },
      "source": [
        "### Test Data RMSE\r\n",
        "math.sqrt(mean_squared_error(ytest,test_predict))"
      ],
      "execution_count": 8,
      "outputs": [
        {
          "output_type": "execute_result",
          "data": {
            "text/plain": [
              "149.40286599374505"
            ]
          },
          "metadata": {
            "tags": []
          },
          "execution_count": 8
        }
      ]
    },
    {
      "cell_type": "code",
      "metadata": {
        "colab": {
          "base_uri": "https://localhost:8080/",
          "height": 265
        },
        "id": "GzEf2pH78nE9",
        "outputId": "4b47e8cc-8953-4d65-9fa7-fa4aa1e88f38"
      },
      "source": [
        "### Plotting \r\n",
        "# shift train predictions for plotting\r\n",
        "look_back=100\r\n",
        "trainPredictPlot = np.empty_like(df1)\r\n",
        "trainPredictPlot[:, :] = np.nan\r\n",
        "trainPredictPlot[look_back:len(train_predict)+look_back, :] = train_predict\r\n",
        "# shift test predictions for plotting\r\n",
        "testPredictPlot = np.empty_like(df1)\r\n",
        "testPredictPlot[:, :] = np.nan\r\n",
        "testPredictPlot[len(train_predict)+(look_back*2)+1:len(df1)-1, :] = test_predict\r\n",
        "# plot baseline and predictions\r\n",
        "plt.plot(scaler.inverse_transform(df1))\r\n",
        "plt.plot(trainPredictPlot)\r\n",
        "#plt.figure()\r\n",
        "plt.plot(testPredictPlot)\r\n",
        "#plt.figure()\r\n",
        "plt.show()"
      ],
      "execution_count": 27,
      "outputs": [
        {
          "output_type": "display_data",
          "data": {
            "image/png": "[encoded data removed]",
            "text/plain": [
              "<Figure size 432x288 with 1 Axes>"
            ]
          },
          "metadata": {
            "tags": [],
            "needs_background": "light"
          }
        }
      ]
    },
    {
      "cell_type": "code",
      "metadata": {
        "colab": {
          "base_uri": "https://localhost:8080/"
        },
        "id": "dWULSejQ8vG0",
        "outputId": "6bde4663-3adb-46cd-ab0e-ed1d113d2840"
      },
      "source": [
        "len(test_data)\r\n"
      ],
      "execution_count": 10,
      "outputs": [
        {
          "output_type": "execute_result",
          "data": {
            "text/plain": [
              "322"
            ]
          },
          "metadata": {
            "tags": []
          },
          "execution_count": 10
        }
      ]
    },
    {
      "cell_type": "code",
      "metadata": {
        "colab": {
          "base_uri": "https://localhost:8080/"
        },
        "id": "ZmxAWoda8zSA",
        "outputId": "52d15e22-bf92-4c9b-a783-028dfefa32a7"
      },
      "source": [
        "x_input=test_data[(len(test_data) - 100):].reshape(1,-1)\r\n",
        "x_input.shape"
      ],
      "execution_count": 11,
      "outputs": [
        {
          "output_type": "execute_result",
          "data": {
            "text/plain": [
              "(1, 100)"
            ]
          },
          "metadata": {
            "tags": []
          },
          "execution_count": 11
        }
      ]
    },
    {
      "cell_type": "code",
      "metadata": {
        "id": "0SnqqZtd83P-"
      },
      "source": [
        "temp_input=list(x_input)\r\n",
        "temp_input=temp_input[0].tolist()"
      ],
      "execution_count": 12,
      "outputs": []
    },
    {
      "cell_type": "code",
      "metadata": {
        "colab": {
          "base_uri": "https://localhost:8080/"
        },
        "id": "HplazH4M8806",
        "outputId": "7df516bd-b3d0-46fa-a0ec-9b2f34ecd98e"
      },
      "source": [
        "# demonstrate prediction for next 10 days\r\n",
        "from numpy import array\r\n",
        "\r\n",
        "lst_output=[]\r\n",
        "n_steps=100\r\n",
        "i=0\r\n",
        "while(i<30):\r\n",
        "    \r\n",
        "    if(len(temp_input)>100):\r\n",
        "        #print(temp_input)\r\n",
        "        x_input=np.array(temp_input[1:])\r\n",
        "        print(\"{} day input {}\".format(i,x_input))\r\n",
        "        x_input=x_input.reshape(1,-1)\r\n",
        "        x_input = x_input.reshape((1, n_steps, 1))\r\n",
        "        #print(x_input)\r\n",
        "        yhat = model.predict(x_input, verbose=0)\r\n",
        "        print(\"{} day output {}\".format(i,yhat))\r\n",
        "        temp_input.extend(yhat[0].tolist())\r\n",
        "        temp_input=temp_input[1:]\r\n",
        "        #print(temp_input)\r\n",
        "        lst_output.extend(yhat.tolist())\r\n",
        "        i=i+1\r\n",
        "    else:\r\n",
        "        x_input = x_input.reshape((1, n_steps,1))\r\n",
        "        yhat = model.predict(x_input, verbose=0)\r\n",
        "        print(yhat[0])\r\n",
        "        temp_input.extend(yhat[0].tolist())\r\n",
        "        print(len(temp_input))\r\n",
        "        lst_output.extend(yhat.tolist())\r\n",
        "        i=i+1\r\n",
        "  \r\n",
        "print(lst_output)"
      ],
      "execution_count": 13,
      "outputs": [
        {
          "output_type": "stream",
          "text": [
            "[1.0534772]\n",
            "101\n",
            "1 day input [0.71629975 0.73474438 0.71520403 0.71045591 0.71246473 0.71009067\n",
            " 0.714017   0.70333373 0.69721596 0.69612024 0.70716875 0.71264735\n",
            " 0.72305669 0.71967822 0.74204918 0.74981053 0.75328031 0.76478538\n",
            " 0.774099   0.76031118 0.76569848 0.7768383  0.79080873 0.79446113\n",
            " 0.75948939 0.7595807  0.75236721 0.84459034 0.82441082 0.81546244\n",
            " 0.82450213 0.83838126 0.84440772 0.85591278 0.82587178 0.8506168\n",
            " 0.86276103 0.87444872 0.861574   0.83728554 0.83408968 0.84066401\n",
            " 0.84833405 0.86075221 0.85363003 0.85810422 0.85773898 0.89134107\n",
            " 0.88988011 0.90047207 0.89088452 0.88147959 0.87581837 0.86458723\n",
            " 0.86139138 0.88056649 0.85563885 0.84760357 0.84285545 0.85783029\n",
            " 0.85235169 0.83765078 0.81856698 0.78423441 0.76569848 0.78204297\n",
            " 0.80039629 0.80121808 0.79500899 0.80459655 0.8023138  0.79884402\n",
            " 0.80386607 0.81098825 0.81865829 0.82094104 0.82011925 0.82358903\n",
            " 0.82705881 0.83765078 0.85481706 0.8606609  0.82724143 0.82596309\n",
            " 0.82851977 0.82304117 0.82870239 0.83162431 0.85034287 0.89216286\n",
            " 0.92868687 0.94658364 0.92631281 0.98420337 0.96931983 0.98338158\n",
            " 0.99013852 0.99424747 1.         1.05347717]\n",
            "1 day output [[1.0611472]]\n",
            "2 day input [0.73474438 0.71520403 0.71045591 0.71246473 0.71009067 0.714017\n",
            " 0.70333373 0.69721596 0.69612024 0.70716875 0.71264735 0.72305669\n",
            " 0.71967822 0.74204918 0.74981053 0.75328031 0.76478538 0.774099\n",
            " 0.76031118 0.76569848 0.7768383  0.79080873 0.79446113 0.75948939\n",
            " 0.7595807  0.75236721 0.84459034 0.82441082 0.81546244 0.82450213\n",
            " 0.83838126 0.84440772 0.85591278 0.82587178 0.8506168  0.86276103\n",
            " 0.87444872 0.861574   0.83728554 0.83408968 0.84066401 0.84833405\n",
            " 0.86075221 0.85363003 0.85810422 0.85773898 0.89134107 0.88988011\n",
            " 0.90047207 0.89088452 0.88147959 0.87581837 0.86458723 0.86139138\n",
            " 0.88056649 0.85563885 0.84760357 0.84285545 0.85783029 0.85235169\n",
            " 0.83765078 0.81856698 0.78423441 0.76569848 0.78204297 0.80039629\n",
            " 0.80121808 0.79500899 0.80459655 0.8023138  0.79884402 0.80386607\n",
            " 0.81098825 0.81865829 0.82094104 0.82011925 0.82358903 0.82705881\n",
            " 0.83765078 0.85481706 0.8606609  0.82724143 0.82596309 0.82851977\n",
            " 0.82304117 0.82870239 0.83162431 0.85034287 0.89216286 0.92868687\n",
            " 0.94658364 0.92631281 0.98420337 0.96931983 0.98338158 0.99013852\n",
            " 0.99424747 1.         1.05347717 1.06114721]\n",
            "2 day output [[1.0751507]]\n",
            "3 day input [0.71520403 0.71045591 0.71246473 0.71009067 0.714017   0.70333373\n",
            " 0.69721596 0.69612024 0.70716875 0.71264735 0.72305669 0.71967822\n",
            " 0.74204918 0.74981053 0.75328031 0.76478538 0.774099   0.76031118\n",
            " 0.76569848 0.7768383  0.79080873 0.79446113 0.75948939 0.7595807\n",
            " 0.75236721 0.84459034 0.82441082 0.81546244 0.82450213 0.83838126\n",
            " 0.84440772 0.85591278 0.82587178 0.8506168  0.86276103 0.87444872\n",
            " 0.861574   0.83728554 0.83408968 0.84066401 0.84833405 0.86075221\n",
            " 0.85363003 0.85810422 0.85773898 0.89134107 0.88988011 0.90047207\n",
            " 0.89088452 0.88147959 0.87581837 0.86458723 0.86139138 0.88056649\n",
            " 0.85563885 0.84760357 0.84285545 0.85783029 0.85235169 0.83765078\n",
            " 0.81856698 0.78423441 0.76569848 0.78204297 0.80039629 0.80121808\n",
            " 0.79500899 0.80459655 0.8023138  0.79884402 0.80386607 0.81098825\n",
            " 0.81865829 0.82094104 0.82011925 0.82358903 0.82705881 0.83765078\n",
            " 0.85481706 0.8606609  0.82724143 0.82596309 0.82851977 0.82304117\n",
            " 0.82870239 0.83162431 0.85034287 0.89216286 0.92868687 0.94658364\n",
            " 0.92631281 0.98420337 0.96931983 0.98338158 0.99013852 0.99424747\n",
            " 1.         1.05347717 1.06114721 1.07515073]\n",
            "3 day output [[1.0935211]]\n",
            "4 day input [0.71045591 0.71246473 0.71009067 0.714017   0.70333373 0.69721596\n",
            " 0.69612024 0.70716875 0.71264735 0.72305669 0.71967822 0.74204918\n",
            " 0.74981053 0.75328031 0.76478538 0.774099   0.76031118 0.76569848\n",
            " 0.7768383  0.79080873 0.79446113 0.75948939 0.7595807  0.75236721\n",
            " 0.84459034 0.82441082 0.81546244 0.82450213 0.83838126 0.84440772\n",
            " 0.85591278 0.82587178 0.8506168  0.86276103 0.87444872 0.861574\n",
            " 0.83728554 0.83408968 0.84066401 0.84833405 0.86075221 0.85363003\n",
            " 0.85810422 0.85773898 0.89134107 0.88988011 0.90047207 0.89088452\n",
            " 0.88147959 0.87581837 0.86458723 0.86139138 0.88056649 0.85563885\n",
            " 0.84760357 0.84285545 0.85783029 0.85235169 0.83765078 0.81856698\n",
            " 0.78423441 0.76569848 0.78204297 0.80039629 0.80121808 0.79500899\n",
            " 0.80459655 0.8023138  0.79884402 0.80386607 0.81098825 0.81865829\n",
            " 0.82094104 0.82011925 0.82358903 0.82705881 0.83765078 0.85481706\n",
            " 0.8606609  0.82724143 0.82596309 0.82851977 0.82304117 0.82870239\n",
            " 0.83162431 0.85034287 0.89216286 0.92868687 0.94658364 0.92631281\n",
            " 0.98420337 0.96931983 0.98338158 0.99013852 0.99424747 1.\n",
            " 1.05347717 1.06114721 1.07515073 1.09352112]\n",
            "4 day output [[1.1144204]]\n",
            "5 day input [0.71246473 0.71009067 0.714017   0.70333373 0.69721596 0.69612024\n",
            " 0.70716875 0.71264735 0.72305669 0.71967822 0.74204918 0.74981053\n",
            " 0.75328031 0.76478538 0.774099   0.76031118 0.76569848 0.7768383\n",
            " 0.79080873 0.79446113 0.75948939 0.7595807  0.75236721 0.84459034\n",
            " 0.82441082 0.81546244 0.82450213 0.83838126 0.84440772 0.85591278\n",
            " 0.82587178 0.8506168  0.86276103 0.87444872 0.861574   0.83728554\n",
            " 0.83408968 0.84066401 0.84833405 0.86075221 0.85363003 0.85810422\n",
            " 0.85773898 0.89134107 0.88988011 0.90047207 0.89088452 0.88147959\n",
            " 0.87581837 0.86458723 0.86139138 0.88056649 0.85563885 0.84760357\n",
            " 0.84285545 0.85783029 0.85235169 0.83765078 0.81856698 0.78423441\n",
            " 0.76569848 0.78204297 0.80039629 0.80121808 0.79500899 0.80459655\n",
            " 0.8023138  0.79884402 0.80386607 0.81098825 0.81865829 0.82094104\n",
            " 0.82011925 0.82358903 0.82705881 0.83765078 0.85481706 0.8606609\n",
            " 0.82724143 0.82596309 0.82851977 0.82304117 0.82870239 0.83162431\n",
            " 0.85034287 0.89216286 0.92868687 0.94658364 0.92631281 0.98420337\n",
            " 0.96931983 0.98338158 0.99013852 0.99424747 1.         1.05347717\n",
            " 1.06114721 1.07515073 1.09352112 1.11442041]\n",
            "5 day output [[1.1366475]]\n",
            "6 day input [0.71009067 0.714017   0.70333373 0.69721596 0.69612024 0.70716875\n",
            " 0.71264735 0.72305669 0.71967822 0.74204918 0.74981053 0.75328031\n",
            " 0.76478538 0.774099   0.76031118 0.76569848 0.7768383  0.79080873\n",
            " 0.79446113 0.75948939 0.7595807  0.75236721 0.84459034 0.82441082\n",
            " 0.81546244 0.82450213 0.83838126 0.84440772 0.85591278 0.82587178\n",
            " 0.8506168  0.86276103 0.87444872 0.861574   0.83728554 0.83408968\n",
            " 0.84066401 0.84833405 0.86075221 0.85363003 0.85810422 0.85773898\n",
            " 0.89134107 0.88988011 0.90047207 0.89088452 0.88147959 0.87581837\n",
            " 0.86458723 0.86139138 0.88056649 0.85563885 0.84760357 0.84285545\n",
            " 0.85783029 0.85235169 0.83765078 0.81856698 0.78423441 0.76569848\n",
            " 0.78204297 0.80039629 0.80121808 0.79500899 0.80459655 0.8023138\n",
            " 0.79884402 0.80386607 0.81098825 0.81865829 0.82094104 0.82011925\n",
            " 0.82358903 0.82705881 0.83765078 0.85481706 0.8606609  0.82724143\n",
            " 0.82596309 0.82851977 0.82304117 0.82870239 0.83162431 0.85034287\n",
            " 0.89216286 0.92868687 0.94658364 0.92631281 0.98420337 0.96931983\n",
            " 0.98338158 0.99013852 0.99424747 1.         1.05347717 1.06114721\n",
            " 1.07515073 1.09352112 1.11442041 1.13664746]\n",
            "6 day output [[1.1595451]]\n",
            "7 day input [0.714017   0.70333373 0.69721596 0.69612024 0.70716875 0.71264735\n",
            " 0.72305669 0.71967822 0.74204918 0.74981053 0.75328031 0.76478538\n",
            " 0.774099   0.76031118 0.76569848 0.7768383  0.79080873 0.79446113\n",
            " 0.75948939 0.7595807  0.75236721 0.84459034 0.82441082 0.81546244\n",
            " 0.82450213 0.83838126 0.84440772 0.85591278 0.82587178 0.8506168\n",
            " 0.86276103 0.87444872 0.861574   0.83728554 0.83408968 0.84066401\n",
            " 0.84833405 0.86075221 0.85363003 0.85810422 0.85773898 0.89134107\n",
            " 0.88988011 0.90047207 0.89088452 0.88147959 0.87581837 0.86458723\n",
            " 0.86139138 0.88056649 0.85563885 0.84760357 0.84285545 0.85783029\n",
            " 0.85235169 0.83765078 0.81856698 0.78423441 0.76569848 0.78204297\n",
            " 0.80039629 0.80121808 0.79500899 0.80459655 0.8023138  0.79884402\n",
            " 0.80386607 0.81098825 0.81865829 0.82094104 0.82011925 0.82358903\n",
            " 0.82705881 0.83765078 0.85481706 0.8606609  0.82724143 0.82596309\n",
            " 0.82851977 0.82304117 0.82870239 0.83162431 0.85034287 0.89216286\n",
            " 0.92868687 0.94658364 0.92631281 0.98420337 0.96931983 0.98338158\n",
            " 0.99013852 0.99424747 1.         1.05347717 1.06114721 1.07515073\n",
            " 1.09352112 1.11442041 1.13664746 1.15954506]\n",
            "7 day output [[1.1827735]]\n",
            "8 day input [0.70333373 0.69721596 0.69612024 0.70716875 0.71264735 0.72305669\n",
            " 0.71967822 0.74204918 0.74981053 0.75328031 0.76478538 0.774099\n",
            " 0.76031118 0.76569848 0.7768383  0.79080873 0.79446113 0.75948939\n",
            " 0.7595807  0.75236721 0.84459034 0.82441082 0.81546244 0.82450213\n",
            " 0.83838126 0.84440772 0.85591278 0.82587178 0.8506168  0.86276103\n",
            " 0.87444872 0.861574   0.83728554 0.83408968 0.84066401 0.84833405\n",
            " 0.86075221 0.85363003 0.85810422 0.85773898 0.89134107 0.88988011\n",
            " 0.90047207 0.89088452 0.88147959 0.87581837 0.86458723 0.86139138\n",
            " 0.88056649 0.85563885 0.84760357 0.84285545 0.85783029 0.85235169\n",
            " 0.83765078 0.81856698 0.78423441 0.76569848 0.78204297 0.80039629\n",
            " 0.80121808 0.79500899 0.80459655 0.8023138  0.79884402 0.80386607\n",
            " 0.81098825 0.81865829 0.82094104 0.82011925 0.82358903 0.82705881\n",
            " 0.83765078 0.85481706 0.8606609  0.82724143 0.82596309 0.82851977\n",
            " 0.82304117 0.82870239 0.83162431 0.85034287 0.89216286 0.92868687\n",
            " 0.94658364 0.92631281 0.98420337 0.96931983 0.98338158 0.99013852\n",
            " 0.99424747 1.         1.05347717 1.06114721 1.07515073 1.09352112\n",
            " 1.11442041 1.13664746 1.15954506 1.18277347]\n",
            "8 day output [[1.2061301]]\n",
            "9 day input [0.69721596 0.69612024 0.70716875 0.71264735 0.72305669 0.71967822\n",
            " 0.74204918 0.74981053 0.75328031 0.76478538 0.774099   0.76031118\n",
            " 0.76569848 0.7768383  0.79080873 0.79446113 0.75948939 0.7595807\n",
            " 0.75236721 0.84459034 0.82441082 0.81546244 0.82450213 0.83838126\n",
            " 0.84440772 0.85591278 0.82587178 0.8506168  0.86276103 0.87444872\n",
            " 0.861574   0.83728554 0.83408968 0.84066401 0.84833405 0.86075221\n",
            " 0.85363003 0.85810422 0.85773898 0.89134107 0.88988011 0.90047207\n",
            " 0.89088452 0.88147959 0.87581837 0.86458723 0.86139138 0.88056649\n",
            " 0.85563885 0.84760357 0.84285545 0.85783029 0.85235169 0.83765078\n",
            " 0.81856698 0.78423441 0.76569848 0.78204297 0.80039629 0.80121808\n",
            " 0.79500899 0.80459655 0.8023138  0.79884402 0.80386607 0.81098825\n",
            " 0.81865829 0.82094104 0.82011925 0.82358903 0.82705881 0.83765078\n",
            " 0.85481706 0.8606609  0.82724143 0.82596309 0.82851977 0.82304117\n",
            " 0.82870239 0.83162431 0.85034287 0.89216286 0.92868687 0.94658364\n",
            " 0.92631281 0.98420337 0.96931983 0.98338158 0.99013852 0.99424747\n",
            " 1.         1.05347717 1.06114721 1.07515073 1.09352112 1.11442041\n",
            " 1.13664746 1.15954506 1.18277347 1.20613015]\n",
            "9 day output [[1.2294579]]\n",
            "10 day input [0.69612024 0.70716875 0.71264735 0.72305669 0.71967822 0.74204918\n",
            " 0.74981053 0.75328031 0.76478538 0.774099   0.76031118 0.76569848\n",
            " 0.7768383  0.79080873 0.79446113 0.75948939 0.7595807  0.75236721\n",
            " 0.84459034 0.82441082 0.81546244 0.82450213 0.83838126 0.84440772\n",
            " 0.85591278 0.82587178 0.8506168  0.86276103 0.87444872 0.861574\n",
            " 0.83728554 0.83408968 0.84066401 0.84833405 0.86075221 0.85363003\n",
            " 0.85810422 0.85773898 0.89134107 0.88988011 0.90047207 0.89088452\n",
            " 0.88147959 0.87581837 0.86458723 0.86139138 0.88056649 0.85563885\n",
            " 0.84760357 0.84285545 0.85783029 0.85235169 0.83765078 0.81856698\n",
            " 0.78423441 0.76569848 0.78204297 0.80039629 0.80121808 0.79500899\n",
            " 0.80459655 0.8023138  0.79884402 0.80386607 0.81098825 0.81865829\n",
            " 0.82094104 0.82011925 0.82358903 0.82705881 0.83765078 0.85481706\n",
            " 0.8606609  0.82724143 0.82596309 0.82851977 0.82304117 0.82870239\n",
            " 0.83162431 0.85034287 0.89216286 0.92868687 0.94658364 0.92631281\n",
            " 0.98420337 0.96931983 0.98338158 0.99013852 0.99424747 1.\n",
            " 1.05347717 1.06114721 1.07515073 1.09352112 1.11442041 1.13664746\n",
            " 1.15954506 1.18277347 1.20613015 1.22945786]\n",
            "10 day output [[1.2526147]]\n",
            "11 day input [0.70716875 0.71264735 0.72305669 0.71967822 0.74204918 0.74981053\n",
            " 0.75328031 0.76478538 0.774099   0.76031118 0.76569848 0.7768383\n",
            " 0.79080873 0.79446113 0.75948939 0.7595807  0.75236721 0.84459034\n",
            " 0.82441082 0.81546244 0.82450213 0.83838126 0.84440772 0.85591278\n",
            " 0.82587178 0.8506168  0.86276103 0.87444872 0.861574   0.83728554\n",
            " 0.83408968 0.84066401 0.84833405 0.86075221 0.85363003 0.85810422\n",
            " 0.85773898 0.89134107 0.88988011 0.90047207 0.89088452 0.88147959\n",
            " 0.87581837 0.86458723 0.86139138 0.88056649 0.85563885 0.84760357\n",
            " 0.84285545 0.85783029 0.85235169 0.83765078 0.81856698 0.78423441\n",
            " 0.76569848 0.78204297 0.80039629 0.80121808 0.79500899 0.80459655\n",
            " 0.8023138  0.79884402 0.80386607 0.81098825 0.81865829 0.82094104\n",
            " 0.82011925 0.82358903 0.82705881 0.83765078 0.85481706 0.8606609\n",
            " 0.82724143 0.82596309 0.82851977 0.82304117 0.82870239 0.83162431\n",
            " 0.85034287 0.89216286 0.92868687 0.94658364 0.92631281 0.98420337\n",
            " 0.96931983 0.98338158 0.99013852 0.99424747 1.         1.05347717\n",
            " 1.06114721 1.07515073 1.09352112 1.11442041 1.13664746 1.15954506\n",
            " 1.18277347 1.20613015 1.22945786 1.25261474]\n",
            "11 day output [[1.2754763]]\n",
            "12 day input [0.71264735 0.72305669 0.71967822 0.74204918 0.74981053 0.75328031\n",
            " 0.76478538 0.774099   0.76031118 0.76569848 0.7768383  0.79080873\n",
            " 0.79446113 0.75948939 0.7595807  0.75236721 0.84459034 0.82441082\n",
            " 0.81546244 0.82450213 0.83838126 0.84440772 0.85591278 0.82587178\n",
            " 0.8506168  0.86276103 0.87444872 0.861574   0.83728554 0.83408968\n",
            " 0.84066401 0.84833405 0.86075221 0.85363003 0.85810422 0.85773898\n",
            " 0.89134107 0.88988011 0.90047207 0.89088452 0.88147959 0.87581837\n",
            " 0.86458723 0.86139138 0.88056649 0.85563885 0.84760357 0.84285545\n",
            " 0.85783029 0.85235169 0.83765078 0.81856698 0.78423441 0.76569848\n",
            " 0.78204297 0.80039629 0.80121808 0.79500899 0.80459655 0.8023138\n",
            " 0.79884402 0.80386607 0.81098825 0.81865829 0.82094104 0.82011925\n",
            " 0.82358903 0.82705881 0.83765078 0.85481706 0.8606609  0.82724143\n",
            " 0.82596309 0.82851977 0.82304117 0.82870239 0.83162431 0.85034287\n",
            " 0.89216286 0.92868687 0.94658364 0.92631281 0.98420337 0.96931983\n",
            " 0.98338158 0.99013852 0.99424747 1.         1.05347717 1.06114721\n",
            " 1.07515073 1.09352112 1.11442041 1.13664746 1.15954506 1.18277347\n",
            " 1.20613015 1.22945786 1.25261474 1.27547634]\n",
            "12 day output [[1.2979457]]\n",
            "13 day input [0.72305669 0.71967822 0.74204918 0.74981053 0.75328031 0.76478538\n",
            " 0.774099   0.76031118 0.76569848 0.7768383  0.79080873 0.79446113\n",
            " 0.75948939 0.7595807  0.75236721 0.84459034 0.82441082 0.81546244\n",
            " 0.82450213 0.83838126 0.84440772 0.85591278 0.82587178 0.8506168\n",
            " 0.86276103 0.87444872 0.861574   0.83728554 0.83408968 0.84066401\n",
            " 0.84833405 0.86075221 0.85363003 0.85810422 0.85773898 0.89134107\n",
            " 0.88988011 0.90047207 0.89088452 0.88147959 0.87581837 0.86458723\n",
            " 0.86139138 0.88056649 0.85563885 0.84760357 0.84285545 0.85783029\n",
            " 0.85235169 0.83765078 0.81856698 0.78423441 0.76569848 0.78204297\n",
            " 0.80039629 0.80121808 0.79500899 0.80459655 0.8023138  0.79884402\n",
            " 0.80386607 0.81098825 0.81865829 0.82094104 0.82011925 0.82358903\n",
            " 0.82705881 0.83765078 0.85481706 0.8606609  0.82724143 0.82596309\n",
            " 0.82851977 0.82304117 0.82870239 0.83162431 0.85034287 0.89216286\n",
            " 0.92868687 0.94658364 0.92631281 0.98420337 0.96931983 0.98338158\n",
            " 0.99013852 0.99424747 1.         1.05347717 1.06114721 1.07515073\n",
            " 1.09352112 1.11442041 1.13664746 1.15954506 1.18277347 1.20613015\n",
            " 1.22945786 1.25261474 1.27547634 1.29794574]\n",
            "13 day output [[1.319959]]\n",
            "14 day input [0.71967822 0.74204918 0.74981053 0.75328031 0.76478538 0.774099\n",
            " 0.76031118 0.76569848 0.7768383  0.79080873 0.79446113 0.75948939\n",
            " 0.7595807  0.75236721 0.84459034 0.82441082 0.81546244 0.82450213\n",
            " 0.83838126 0.84440772 0.85591278 0.82587178 0.8506168  0.86276103\n",
            " 0.87444872 0.861574   0.83728554 0.83408968 0.84066401 0.84833405\n",
            " 0.86075221 0.85363003 0.85810422 0.85773898 0.89134107 0.88988011\n",
            " 0.90047207 0.89088452 0.88147959 0.87581837 0.86458723 0.86139138\n",
            " 0.88056649 0.85563885 0.84760357 0.84285545 0.85783029 0.85235169\n",
            " 0.83765078 0.81856698 0.78423441 0.76569848 0.78204297 0.80039629\n",
            " 0.80121808 0.79500899 0.80459655 0.8023138  0.79884402 0.80386607\n",
            " 0.81098825 0.81865829 0.82094104 0.82011925 0.82358903 0.82705881\n",
            " 0.83765078 0.85481706 0.8606609  0.82724143 0.82596309 0.82851977\n",
            " 0.82304117 0.82870239 0.83162431 0.85034287 0.89216286 0.92868687\n",
            " 0.94658364 0.92631281 0.98420337 0.96931983 0.98338158 0.99013852\n",
            " 0.99424747 1.         1.05347717 1.06114721 1.07515073 1.09352112\n",
            " 1.11442041 1.13664746 1.15954506 1.18277347 1.20613015 1.22945786\n",
            " 1.25261474 1.27547634 1.29794574 1.31995904]\n",
            "14 day output [[1.3414885]]\n",
            "15 day input [0.74204918 0.74981053 0.75328031 0.76478538 0.774099   0.76031118\n",
            " 0.76569848 0.7768383  0.79080873 0.79446113 0.75948939 0.7595807\n",
            " 0.75236721 0.84459034 0.82441082 0.81546244 0.82450213 0.83838126\n",
            " 0.84440772 0.85591278 0.82587178 0.8506168  0.86276103 0.87444872\n",
            " 0.861574   0.83728554 0.83408968 0.84066401 0.84833405 0.86075221\n",
            " 0.85363003 0.85810422 0.85773898 0.89134107 0.88988011 0.90047207\n",
            " 0.89088452 0.88147959 0.87581837 0.86458723 0.86139138 0.88056649\n",
            " 0.85563885 0.84760357 0.84285545 0.85783029 0.85235169 0.83765078\n",
            " 0.81856698 0.78423441 0.76569848 0.78204297 0.80039629 0.80121808\n",
            " 0.79500899 0.80459655 0.8023138  0.79884402 0.80386607 0.81098825\n",
            " 0.81865829 0.82094104 0.82011925 0.82358903 0.82705881 0.83765078\n",
            " 0.85481706 0.8606609  0.82724143 0.82596309 0.82851977 0.82304117\n",
            " 0.82870239 0.83162431 0.85034287 0.89216286 0.92868687 0.94658364\n",
            " 0.92631281 0.98420337 0.96931983 0.98338158 0.99013852 0.99424747\n",
            " 1.         1.05347717 1.06114721 1.07515073 1.09352112 1.11442041\n",
            " 1.13664746 1.15954506 1.18277347 1.20613015 1.22945786 1.25261474\n",
            " 1.27547634 1.29794574 1.31995904 1.34148848]\n",
            "15 day output [[1.3625348]]\n",
            "16 day input [0.74981053 0.75328031 0.76478538 0.774099   0.76031118 0.76569848\n",
            " 0.7768383  0.79080873 0.79446113 0.75948939 0.7595807  0.75236721\n",
            " 0.84459034 0.82441082 0.81546244 0.82450213 0.83838126 0.84440772\n",
            " 0.85591278 0.82587178 0.8506168  0.86276103 0.87444872 0.861574\n",
            " 0.83728554 0.83408968 0.84066401 0.84833405 0.86075221 0.85363003\n",
            " 0.85810422 0.85773898 0.89134107 0.88988011 0.90047207 0.89088452\n",
            " 0.88147959 0.87581837 0.86458723 0.86139138 0.88056649 0.85563885\n",
            " 0.84760357 0.84285545 0.85783029 0.85235169 0.83765078 0.81856698\n",
            " 0.78423441 0.76569848 0.78204297 0.80039629 0.80121808 0.79500899\n",
            " 0.80459655 0.8023138  0.79884402 0.80386607 0.81098825 0.81865829\n",
            " 0.82094104 0.82011925 0.82358903 0.82705881 0.83765078 0.85481706\n",
            " 0.8606609  0.82724143 0.82596309 0.82851977 0.82304117 0.82870239\n",
            " 0.83162431 0.85034287 0.89216286 0.92868687 0.94658364 0.92631281\n",
            " 0.98420337 0.96931983 0.98338158 0.99013852 0.99424747 1.\n",
            " 1.05347717 1.06114721 1.07515073 1.09352112 1.11442041 1.13664746\n",
            " 1.15954506 1.18277347 1.20613015 1.22945786 1.25261474 1.27547634\n",
            " 1.29794574 1.31995904 1.34148848 1.36253476]\n",
            "16 day output [[1.3831228]]\n",
            "17 day input [0.75328031 0.76478538 0.774099   0.76031118 0.76569848 0.7768383\n",
            " 0.79080873 0.79446113 0.75948939 0.7595807  0.75236721 0.84459034\n",
            " 0.82441082 0.81546244 0.82450213 0.83838126 0.84440772 0.85591278\n",
            " 0.82587178 0.8506168  0.86276103 0.87444872 0.861574   0.83728554\n",
            " 0.83408968 0.84066401 0.84833405 0.86075221 0.85363003 0.85810422\n",
            " 0.85773898 0.89134107 0.88988011 0.90047207 0.89088452 0.88147959\n",
            " 0.87581837 0.86458723 0.86139138 0.88056649 0.85563885 0.84760357\n",
            " 0.84285545 0.85783029 0.85235169 0.83765078 0.81856698 0.78423441\n",
            " 0.76569848 0.78204297 0.80039629 0.80121808 0.79500899 0.80459655\n",
            " 0.8023138  0.79884402 0.80386607 0.81098825 0.81865829 0.82094104\n",
            " 0.82011925 0.82358903 0.82705881 0.83765078 0.85481706 0.8606609\n",
            " 0.82724143 0.82596309 0.82851977 0.82304117 0.82870239 0.83162431\n",
            " 0.85034287 0.89216286 0.92868687 0.94658364 0.92631281 0.98420337\n",
            " 0.96931983 0.98338158 0.99013852 0.99424747 1.         1.05347717\n",
            " 1.06114721 1.07515073 1.09352112 1.11442041 1.13664746 1.15954506\n",
            " 1.18277347 1.20613015 1.22945786 1.25261474 1.27547634 1.29794574\n",
            " 1.31995904 1.34148848 1.36253476 1.3831228 ]\n",
            "17 day output [[1.4032887]]\n",
            "18 day input [0.76478538 0.774099   0.76031118 0.76569848 0.7768383  0.79080873\n",
            " 0.79446113 0.75948939 0.7595807  0.75236721 0.84459034 0.82441082\n",
            " 0.81546244 0.82450213 0.83838126 0.84440772 0.85591278 0.82587178\n",
            " 0.8506168  0.86276103 0.87444872 0.861574   0.83728554 0.83408968\n",
            " 0.84066401 0.84833405 0.86075221 0.85363003 0.85810422 0.85773898\n",
            " 0.89134107 0.88988011 0.90047207 0.89088452 0.88147959 0.87581837\n",
            " 0.86458723 0.86139138 0.88056649 0.85563885 0.84760357 0.84285545\n",
            " 0.85783029 0.85235169 0.83765078 0.81856698 0.78423441 0.76569848\n",
            " 0.78204297 0.80039629 0.80121808 0.79500899 0.80459655 0.8023138\n",
            " 0.79884402 0.80386607 0.81098825 0.81865829 0.82094104 0.82011925\n",
            " 0.82358903 0.82705881 0.83765078 0.85481706 0.8606609  0.82724143\n",
            " 0.82596309 0.82851977 0.82304117 0.82870239 0.83162431 0.85034287\n",
            " 0.89216286 0.92868687 0.94658364 0.92631281 0.98420337 0.96931983\n",
            " 0.98338158 0.99013852 0.99424747 1.         1.05347717 1.06114721\n",
            " 1.07515073 1.09352112 1.11442041 1.13664746 1.15954506 1.18277347\n",
            " 1.20613015 1.22945786 1.25261474 1.27547634 1.29794574 1.31995904\n",
            " 1.34148848 1.36253476 1.3831228  1.40328872]\n",
            "18 day output [[1.4230751]]\n",
            "19 day input [0.774099   0.76031118 0.76569848 0.7768383  0.79080873 0.79446113\n",
            " 0.75948939 0.7595807  0.75236721 0.84459034 0.82441082 0.81546244\n",
            " 0.82450213 0.83838126 0.84440772 0.85591278 0.82587178 0.8506168\n",
            " 0.86276103 0.87444872 0.861574   0.83728554 0.83408968 0.84066401\n",
            " 0.84833405 0.86075221 0.85363003 0.85810422 0.85773898 0.89134107\n",
            " 0.88988011 0.90047207 0.89088452 0.88147959 0.87581837 0.86458723\n",
            " 0.86139138 0.88056649 0.85563885 0.84760357 0.84285545 0.85783029\n",
            " 0.85235169 0.83765078 0.81856698 0.78423441 0.76569848 0.78204297\n",
            " 0.80039629 0.80121808 0.79500899 0.80459655 0.8023138  0.79884402\n",
            " 0.80386607 0.81098825 0.81865829 0.82094104 0.82011925 0.82358903\n",
            " 0.82705881 0.83765078 0.85481706 0.8606609  0.82724143 0.82596309\n",
            " 0.82851977 0.82304117 0.82870239 0.83162431 0.85034287 0.89216286\n",
            " 0.92868687 0.94658364 0.92631281 0.98420337 0.96931983 0.98338158\n",
            " 0.99013852 0.99424747 1.         1.05347717 1.06114721 1.07515073\n",
            " 1.09352112 1.11442041 1.13664746 1.15954506 1.18277347 1.20613015\n",
            " 1.22945786 1.25261474 1.27547634 1.29794574 1.31995904 1.34148848\n",
            " 1.36253476 1.3831228  1.40328872 1.42307508]\n",
            "19 day output [[1.4425195]]\n",
            "20 day input [0.76031118 0.76569848 0.7768383  0.79080873 0.79446113 0.75948939\n",
            " 0.7595807  0.75236721 0.84459034 0.82441082 0.81546244 0.82450213\n",
            " 0.83838126 0.84440772 0.85591278 0.82587178 0.8506168  0.86276103\n",
            " 0.87444872 0.861574   0.83728554 0.83408968 0.84066401 0.84833405\n",
            " 0.86075221 0.85363003 0.85810422 0.85773898 0.89134107 0.88988011\n",
            " 0.90047207 0.89088452 0.88147959 0.87581837 0.86458723 0.86139138\n",
            " 0.88056649 0.85563885 0.84760357 0.84285545 0.85783029 0.85235169\n",
            " 0.83765078 0.81856698 0.78423441 0.76569848 0.78204297 0.80039629\n",
            " 0.80121808 0.79500899 0.80459655 0.8023138  0.79884402 0.80386607\n",
            " 0.81098825 0.81865829 0.82094104 0.82011925 0.82358903 0.82705881\n",
            " 0.83765078 0.85481706 0.8606609  0.82724143 0.82596309 0.82851977\n",
            " 0.82304117 0.82870239 0.83162431 0.85034287 0.89216286 0.92868687\n",
            " 0.94658364 0.92631281 0.98420337 0.96931983 0.98338158 0.99013852\n",
            " 0.99424747 1.         1.05347717 1.06114721 1.07515073 1.09352112\n",
            " 1.11442041 1.13664746 1.15954506 1.18277347 1.20613015 1.22945786\n",
            " 1.25261474 1.27547634 1.29794574 1.31995904 1.34148848 1.36253476\n",
            " 1.3831228  1.40328872 1.42307508 1.44251955]\n",
            "20 day output [[1.4616519]]\n",
            "21 day input [0.76569848 0.7768383  0.79080873 0.79446113 0.75948939 0.7595807\n",
            " 0.75236721 0.84459034 0.82441082 0.81546244 0.82450213 0.83838126\n",
            " 0.84440772 0.85591278 0.82587178 0.8506168  0.86276103 0.87444872\n",
            " 0.861574   0.83728554 0.83408968 0.84066401 0.84833405 0.86075221\n",
            " 0.85363003 0.85810422 0.85773898 0.89134107 0.88988011 0.90047207\n",
            " 0.89088452 0.88147959 0.87581837 0.86458723 0.86139138 0.88056649\n",
            " 0.85563885 0.84760357 0.84285545 0.85783029 0.85235169 0.83765078\n",
            " 0.81856698 0.78423441 0.76569848 0.78204297 0.80039629 0.80121808\n",
            " 0.79500899 0.80459655 0.8023138  0.79884402 0.80386607 0.81098825\n",
            " 0.81865829 0.82094104 0.82011925 0.82358903 0.82705881 0.83765078\n",
            " 0.85481706 0.8606609  0.82724143 0.82596309 0.82851977 0.82304117\n",
            " 0.82870239 0.83162431 0.85034287 0.89216286 0.92868687 0.94658364\n",
            " 0.92631281 0.98420337 0.96931983 0.98338158 0.99013852 0.99424747\n",
            " 1.         1.05347717 1.06114721 1.07515073 1.09352112 1.11442041\n",
            " 1.13664746 1.15954506 1.18277347 1.20613015 1.22945786 1.25261474\n",
            " 1.27547634 1.29794574 1.31995904 1.34148848 1.36253476 1.3831228\n",
            " 1.40328872 1.42307508 1.44251955 1.46165192]\n",
            "21 day output [[1.4804873]]\n",
            "22 day input [0.7768383  0.79080873 0.79446113 0.75948939 0.7595807  0.75236721\n",
            " 0.84459034 0.82441082 0.81546244 0.82450213 0.83838126 0.84440772\n",
            " 0.85591278 0.82587178 0.8506168  0.86276103 0.87444872 0.861574\n",
            " 0.83728554 0.83408968 0.84066401 0.84833405 0.86075221 0.85363003\n",
            " 0.85810422 0.85773898 0.89134107 0.88988011 0.90047207 0.89088452\n",
            " 0.88147959 0.87581837 0.86458723 0.86139138 0.88056649 0.85563885\n",
            " 0.84760357 0.84285545 0.85783029 0.85235169 0.83765078 0.81856698\n",
            " 0.78423441 0.76569848 0.78204297 0.80039629 0.80121808 0.79500899\n",
            " 0.80459655 0.8023138  0.79884402 0.80386607 0.81098825 0.81865829\n",
            " 0.82094104 0.82011925 0.82358903 0.82705881 0.83765078 0.85481706\n",
            " 0.8606609  0.82724143 0.82596309 0.82851977 0.82304117 0.82870239\n",
            " 0.83162431 0.85034287 0.89216286 0.92868687 0.94658364 0.92631281\n",
            " 0.98420337 0.96931983 0.98338158 0.99013852 0.99424747 1.\n",
            " 1.05347717 1.06114721 1.07515073 1.09352112 1.11442041 1.13664746\n",
            " 1.15954506 1.18277347 1.20613015 1.22945786 1.25261474 1.27547634\n",
            " 1.29794574 1.31995904 1.34148848 1.36253476 1.3831228  1.40328872\n",
            " 1.42307508 1.44251955 1.46165192 1.48048735]\n",
            "22 day output [[1.4990277]]\n",
            "23 day input [0.79080873 0.79446113 0.75948939 0.7595807  0.75236721 0.84459034\n",
            " 0.82441082 0.81546244 0.82450213 0.83838126 0.84440772 0.85591278\n",
            " 0.82587178 0.8506168  0.86276103 0.87444872 0.861574   0.83728554\n",
            " 0.83408968 0.84066401 0.84833405 0.86075221 0.85363003 0.85810422\n",
            " 0.85773898 0.89134107 0.88988011 0.90047207 0.89088452 0.88147959\n",
            " 0.87581837 0.86458723 0.86139138 0.88056649 0.85563885 0.84760357\n",
            " 0.84285545 0.85783029 0.85235169 0.83765078 0.81856698 0.78423441\n",
            " 0.76569848 0.78204297 0.80039629 0.80121808 0.79500899 0.80459655\n",
            " 0.8023138  0.79884402 0.80386607 0.81098825 0.81865829 0.82094104\n",
            " 0.82011925 0.82358903 0.82705881 0.83765078 0.85481706 0.8606609\n",
            " 0.82724143 0.82596309 0.82851977 0.82304117 0.82870239 0.83162431\n",
            " 0.85034287 0.89216286 0.92868687 0.94658364 0.92631281 0.98420337\n",
            " 0.96931983 0.98338158 0.99013852 0.99424747 1.         1.05347717\n",
            " 1.06114721 1.07515073 1.09352112 1.11442041 1.13664746 1.15954506\n",
            " 1.18277347 1.20613015 1.22945786 1.25261474 1.27547634 1.29794574\n",
            " 1.31995904 1.34148848 1.36253476 1.3831228  1.40328872 1.42307508\n",
            " 1.44251955 1.46165192 1.48048735 1.49902773]\n",
            "23 day output [[1.5172592]]\n",
            "24 day input [0.79446113 0.75948939 0.7595807  0.75236721 0.84459034 0.82441082\n",
            " 0.81546244 0.82450213 0.83838126 0.84440772 0.85591278 0.82587178\n",
            " 0.8506168  0.86276103 0.87444872 0.861574   0.83728554 0.83408968\n",
            " 0.84066401 0.84833405 0.86075221 0.85363003 0.85810422 0.85773898\n",
            " 0.89134107 0.88988011 0.90047207 0.89088452 0.88147959 0.87581837\n",
            " 0.86458723 0.86139138 0.88056649 0.85563885 0.84760357 0.84285545\n",
            " 0.85783029 0.85235169 0.83765078 0.81856698 0.78423441 0.76569848\n",
            " 0.78204297 0.80039629 0.80121808 0.79500899 0.80459655 0.8023138\n",
            " 0.79884402 0.80386607 0.81098825 0.81865829 0.82094104 0.82011925\n",
            " 0.82358903 0.82705881 0.83765078 0.85481706 0.8606609  0.82724143\n",
            " 0.82596309 0.82851977 0.82304117 0.82870239 0.83162431 0.85034287\n",
            " 0.89216286 0.92868687 0.94658364 0.92631281 0.98420337 0.96931983\n",
            " 0.98338158 0.99013852 0.99424747 1.         1.05347717 1.06114721\n",
            " 1.07515073 1.09352112 1.11442041 1.13664746 1.15954506 1.18277347\n",
            " 1.20613015 1.22945786 1.25261474 1.27547634 1.29794574 1.31995904\n",
            " 1.34148848 1.36253476 1.3831228  1.40328872 1.42307508 1.44251955\n",
            " 1.46165192 1.48048735 1.49902773 1.51725924]\n",
            "24 day output [[1.5351547]]\n",
            "25 day input [0.75948939 0.7595807  0.75236721 0.84459034 0.82441082 0.81546244\n",
            " 0.82450213 0.83838126 0.84440772 0.85591278 0.82587178 0.8506168\n",
            " 0.86276103 0.87444872 0.861574   0.83728554 0.83408968 0.84066401\n",
            " 0.84833405 0.86075221 0.85363003 0.85810422 0.85773898 0.89134107\n",
            " 0.88988011 0.90047207 0.89088452 0.88147959 0.87581837 0.86458723\n",
            " 0.86139138 0.88056649 0.85563885 0.84760357 0.84285545 0.85783029\n",
            " 0.85235169 0.83765078 0.81856698 0.78423441 0.76569848 0.78204297\n",
            " 0.80039629 0.80121808 0.79500899 0.80459655 0.8023138  0.79884402\n",
            " 0.80386607 0.81098825 0.81865829 0.82094104 0.82011925 0.82358903\n",
            " 0.82705881 0.83765078 0.85481706 0.8606609  0.82724143 0.82596309\n",
            " 0.82851977 0.82304117 0.82870239 0.83162431 0.85034287 0.89216286\n",
            " 0.92868687 0.94658364 0.92631281 0.98420337 0.96931983 0.98338158\n",
            " 0.99013852 0.99424747 1.         1.05347717 1.06114721 1.07515073\n",
            " 1.09352112 1.11442041 1.13664746 1.15954506 1.18277347 1.20613015\n",
            " 1.22945786 1.25261474 1.27547634 1.29794574 1.31995904 1.34148848\n",
            " 1.36253476 1.3831228  1.40328872 1.42307508 1.44251955 1.46165192\n",
            " 1.48048735 1.49902773 1.51725924 1.5351547 ]\n",
            "25 day output [[1.5526774]]\n",
            "26 day input [0.7595807  0.75236721 0.84459034 0.82441082 0.81546244 0.82450213\n",
            " 0.83838126 0.84440772 0.85591278 0.82587178 0.8506168  0.86276103\n",
            " 0.87444872 0.861574   0.83728554 0.83408968 0.84066401 0.84833405\n",
            " 0.86075221 0.85363003 0.85810422 0.85773898 0.89134107 0.88988011\n",
            " 0.90047207 0.89088452 0.88147959 0.87581837 0.86458723 0.86139138\n",
            " 0.88056649 0.85563885 0.84760357 0.84285545 0.85783029 0.85235169\n",
            " 0.83765078 0.81856698 0.78423441 0.76569848 0.78204297 0.80039629\n",
            " 0.80121808 0.79500899 0.80459655 0.8023138  0.79884402 0.80386607\n",
            " 0.81098825 0.81865829 0.82094104 0.82011925 0.82358903 0.82705881\n",
            " 0.83765078 0.85481706 0.8606609  0.82724143 0.82596309 0.82851977\n",
            " 0.82304117 0.82870239 0.83162431 0.85034287 0.89216286 0.92868687\n",
            " 0.94658364 0.92631281 0.98420337 0.96931983 0.98338158 0.99013852\n",
            " 0.99424747 1.         1.05347717 1.06114721 1.07515073 1.09352112\n",
            " 1.11442041 1.13664746 1.15954506 1.18277347 1.20613015 1.22945786\n",
            " 1.25261474 1.27547634 1.29794574 1.31995904 1.34148848 1.36253476\n",
            " 1.3831228  1.40328872 1.42307508 1.44251955 1.46165192 1.48048735\n",
            " 1.49902773 1.51725924 1.5351547  1.55267739]\n",
            "26 day output [[1.5697823]]\n",
            "27 day input [0.75236721 0.84459034 0.82441082 0.81546244 0.82450213 0.83838126\n",
            " 0.84440772 0.85591278 0.82587178 0.8506168  0.86276103 0.87444872\n",
            " 0.861574   0.83728554 0.83408968 0.84066401 0.84833405 0.86075221\n",
            " 0.85363003 0.85810422 0.85773898 0.89134107 0.88988011 0.90047207\n",
            " 0.89088452 0.88147959 0.87581837 0.86458723 0.86139138 0.88056649\n",
            " 0.85563885 0.84760357 0.84285545 0.85783029 0.85235169 0.83765078\n",
            " 0.81856698 0.78423441 0.76569848 0.78204297 0.80039629 0.80121808\n",
            " 0.79500899 0.80459655 0.8023138  0.79884402 0.80386607 0.81098825\n",
            " 0.81865829 0.82094104 0.82011925 0.82358903 0.82705881 0.83765078\n",
            " 0.85481706 0.8606609  0.82724143 0.82596309 0.82851977 0.82304117\n",
            " 0.82870239 0.83162431 0.85034287 0.89216286 0.92868687 0.94658364\n",
            " 0.92631281 0.98420337 0.96931983 0.98338158 0.99013852 0.99424747\n",
            " 1.         1.05347717 1.06114721 1.07515073 1.09352112 1.11442041\n",
            " 1.13664746 1.15954506 1.18277347 1.20613015 1.22945786 1.25261474\n",
            " 1.27547634 1.29794574 1.31995904 1.34148848 1.36253476 1.3831228\n",
            " 1.40328872 1.42307508 1.44251955 1.46165192 1.48048735 1.49902773\n",
            " 1.51725924 1.5351547  1.55267739 1.56978226]\n",
            "27 day output [[1.5864211]]\n",
            "28 day input [0.84459034 0.82441082 0.81546244 0.82450213 0.83838126 0.84440772\n",
            " 0.85591278 0.82587178 0.8506168  0.86276103 0.87444872 0.861574\n",
            " 0.83728554 0.83408968 0.84066401 0.84833405 0.86075221 0.85363003\n",
            " 0.85810422 0.85773898 0.89134107 0.88988011 0.90047207 0.89088452\n",
            " 0.88147959 0.87581837 0.86458723 0.86139138 0.88056649 0.85563885\n",
            " 0.84760357 0.84285545 0.85783029 0.85235169 0.83765078 0.81856698\n",
            " 0.78423441 0.76569848 0.78204297 0.80039629 0.80121808 0.79500899\n",
            " 0.80459655 0.8023138  0.79884402 0.80386607 0.81098825 0.81865829\n",
            " 0.82094104 0.82011925 0.82358903 0.82705881 0.83765078 0.85481706\n",
            " 0.8606609  0.82724143 0.82596309 0.82851977 0.82304117 0.82870239\n",
            " 0.83162431 0.85034287 0.89216286 0.92868687 0.94658364 0.92631281\n",
            " 0.98420337 0.96931983 0.98338158 0.99013852 0.99424747 1.\n",
            " 1.05347717 1.06114721 1.07515073 1.09352112 1.11442041 1.13664746\n",
            " 1.15954506 1.18277347 1.20613015 1.22945786 1.25261474 1.27547634\n",
            " 1.29794574 1.31995904 1.34148848 1.36253476 1.3831228  1.40328872\n",
            " 1.42307508 1.44251955 1.46165192 1.48048735 1.49902773 1.51725924\n",
            " 1.5351547  1.55267739 1.56978226 1.58642113]\n",
            "28 day output [[1.6025451]]\n",
            "29 day input [0.82441082 0.81546244 0.82450213 0.83838126 0.84440772 0.85591278\n",
            " 0.82587178 0.8506168  0.86276103 0.87444872 0.861574   0.83728554\n",
            " 0.83408968 0.84066401 0.84833405 0.86075221 0.85363003 0.85810422\n",
            " 0.85773898 0.89134107 0.88988011 0.90047207 0.89088452 0.88147959\n",
            " 0.87581837 0.86458723 0.86139138 0.88056649 0.85563885 0.84760357\n",
            " 0.84285545 0.85783029 0.85235169 0.83765078 0.81856698 0.78423441\n",
            " 0.76569848 0.78204297 0.80039629 0.80121808 0.79500899 0.80459655\n",
            " 0.8023138  0.79884402 0.80386607 0.81098825 0.81865829 0.82094104\n",
            " 0.82011925 0.82358903 0.82705881 0.83765078 0.85481706 0.8606609\n",
            " 0.82724143 0.82596309 0.82851977 0.82304117 0.82870239 0.83162431\n",
            " 0.85034287 0.89216286 0.92868687 0.94658364 0.92631281 0.98420337\n",
            " 0.96931983 0.98338158 0.99013852 0.99424747 1.         1.05347717\n",
            " 1.06114721 1.07515073 1.09352112 1.11442041 1.13664746 1.15954506\n",
            " 1.18277347 1.20613015 1.22945786 1.25261474 1.27547634 1.29794574\n",
            " 1.31995904 1.34148848 1.36253476 1.3831228  1.40328872 1.42307508\n",
            " 1.44251955 1.46165192 1.48048735 1.49902773 1.51725924 1.5351547\n",
            " 1.55267739 1.56978226 1.58642113 1.60254514]\n",
            "29 day output [[1.6181091]]\n",
            "[[1.053477168083191], [1.0611472129821777], [1.075150728225708], [1.0935211181640625], [1.1144204139709473], [1.1366474628448486], [1.1595450639724731], [1.182773470878601], [1.2061301469802856], [1.2294578552246094], [1.2526147365570068], [1.275476336479187], [1.2979457378387451], [1.319959044456482], [1.3414884805679321], [1.362534761428833], [1.3831228017807007], [1.403288722038269], [1.4230750799179077], [1.4425195455551147], [1.4616519212722778], [1.48048734664917], [1.4990277290344238], [1.5172592401504517], [1.5351547002792358], [1.5526773929595947], [1.5697822570800781], [1.5864211320877075], [1.602545142173767], [1.618109107017517]]\n"
          ],
          "name": "stdout"
        }
      ]
    },
    {
      "cell_type": "code",
      "metadata": {
        "id": "f-nbgm9qBh_N"
      },
      "source": [
        "day_new=np.arange(1,101)\r\n",
        "day_pred=np.arange(101,131)"
      ],
      "execution_count": 14,
      "outputs": []
    },
    {
      "cell_type": "code",
      "metadata": {
        "colab": {
          "base_uri": "https://localhost:8080/"
        },
        "id": "PUuiJlDVBtjE",
        "outputId": "46bac661-9d67-4af8-a88f-e5b3a0a043af"
      },
      "source": [
        "len(df1)"
      ],
      "execution_count": 15,
      "outputs": [
        {
          "output_type": "execute_result",
          "data": {
            "text/plain": [
              "974"
            ]
          },
          "metadata": {
            "tags": []
          },
          "execution_count": 15
        }
      ]
    },
    {
      "cell_type": "code",
      "metadata": {
        "colab": {
          "base_uri": "https://localhost:8080/",
          "height": 282
        },
        "id": "JyW6anZ9Bw7N",
        "outputId": "eeca4738-2fcf-4180-e463-e46b48464b5b"
      },
      "source": [
        "plt.plot(day_new,scaler.inverse_transform(df1[874:]))\r\n",
        "plt.plot(day_pred,scaler.inverse_transform(lst_output))"
      ],
      "execution_count": 16,
      "outputs": [
        {
          "output_type": "execute_result",
          "data": {
            "text/plain": [
              "[<matplotlib.lines.Line2D at 0x7f7526d6aeb8>]"
            ]
          },
          "metadata": {
            "tags": []
          },
          "execution_count": 16
        },
        {
          "output_type": "display_data",
          "data": {
            "image/png": "[encoded data removed]",
            "text/plain": [
              "<Figure size 432x288 with 1 Axes>"
            ]
          },
          "metadata": {
            "tags": [],
            "needs_background": "light"
          }
        }
      ]
    },
    {
      "cell_type": "code",
      "metadata": {
        "colab": {
          "base_uri": "https://localhost:8080/",
          "height": 282
        },
        "id": "P8X_V-WkCDPo",
        "outputId": "38e0472a-1206-4762-c095-41676c208521"
      },
      "source": [
        "df3=df1.tolist()\r\n",
        "df3.extend(lst_output)\r\n",
        "plt.plot(df3[700:])"
      ],
      "execution_count": 17,
      "outputs": [
        {
          "output_type": "execute_result",
          "data": {
            "text/plain": [
              "[<matplotlib.lines.Line2D at 0x7f7526798cc0>]"
            ]
          },
          "metadata": {
            "tags": []
          },
          "execution_count": 17
        },
        {
          "output_type": "display_data",
          "data": {
            "image/png": "[encoded data removed]",
            "text/plain": [
              "<Figure size 432x288 with 1 Axes>"
            ]
          },
          "metadata": {
            "tags": [],
            "needs_background": "light"
          }
        }
      ]
    },
    {
      "cell_type": "code",
      "metadata": {
        "id": "2BZVQUQxCKks"
      },
      "source": [
        "\r\n",
        "df3=scaler.inverse_transform(df3).tolist()"
      ],
      "execution_count": 18,
      "outputs": []
    },
    {
      "cell_type": "code",
      "metadata": {
        "colab": {
          "base_uri": "https://localhost:8080/",
          "height": 284
        },
        "id": "6MLjPdaGCL-j",
        "outputId": "ceb9cd8f-444e-469f-bd02-33ad06a744e7"
      },
      "source": [
        "plt.plot(df3)\r\n"
      ],
      "execution_count": 19,
      "outputs": [
        {
          "output_type": "execute_result",
          "data": {
            "text/plain": [
              "[<matplotlib.lines.Line2D at 0x7f75266f51d0>]"
            ]
          },
          "metadata": {
            "tags": []
          },
          "execution_count": 19
        },
        {
          "output_type": "display_data",
          "data": {
            "image/png": "[encoded data removed]",
            "text/plain": [
              "<Figure size 432x288 with 1 Axes>"
            ]
          },
          "metadata": {
            "tags": [],
            "needs_background": "light"
          }
        }
      ]
    }
  ]
}