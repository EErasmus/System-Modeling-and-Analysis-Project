{
  "nbformat": 4,
  "nbformat_minor": 0,
  "metadata": {
    "colab": {
      "name": "experiment on close price for 100 features entire dataset.ipynb",
      "provenance": [],
      "collapsed_sections": [],
      "toc_visible": true,
      "mount_file_id": "1Tpa1HT5QjhqEv7sSCHz-O_th_JQs6jTg",
      "authorship_tag": "ABX9TyNZHF8Xd6Nz7M57JtPlxmKR",
      "include_colab_link": true
    },
    "kernelspec": {
      "name": "python3",
      "display_name": "Python 3"
    }
  },
  "cells": [
    {
      "cell_type": "markdown",
      "metadata": {
        "id": "view-in-github",
        "colab_type": "text"
      },
      "source": [
        "<a href=\"https://colab.research.google.com/github/EErasmus/System-Modeling-and-Analysis-Project/blob/master/code/experiment_on_close_price_for_100_features_entire_dataset.ipynb\" target=\"_parent\"><img src=\"https://colab.research.google.com/assets/colab-badge.svg\" alt=\"Open In Colab\"/></a>"
      ]
    },
    {
      "cell_type": "code",
      "metadata": {
        "id": "TFcRxtOSKuV-",
        "colab": {
          "base_uri": "https://localhost:8080/"
        },
        "outputId": "35244bfc-6129-4fec-88c1-aa926bc41809"
      },
      "source": [
        "import matplotlib.pyplot as plt\n",
        "import pandas as pd\n",
        "import numpy as np\n",
        "import sklearn as skl\n",
        "from sklearn.model_selection import train_test_split\n",
        "from sklearn.preprocessing import MinMaxScaler\n",
        "\n",
        "\n",
        "dateparse = lambda dates: pd.datetime.strptime(dates, '%Y-%m-%d')\n",
        "data = pd.read_csv('/content/drive/My Drive/Colab Notebooks/aapl.us.txt',sep=',', index_col='Date', parse_dates=['Date'], date_parser=dateparse).fillna(0)\n",
        "#plot close price\n",
        "#plt.figure(figsize=(10,6))\n",
        "# plt.grid(True)\n",
        "# plt.xlabel('Year')\n",
        "# plt.ylabel('Close Prices')\n",
        "# All months data of 2017 for Close price\n",
        "#data.tail()\n",
        "#plt.title('All months data of 2017 for Close price')\n",
        "#plt.plot(data.loc['2017-01-01':'2017-12-31']['Close'])\n",
        "#plt.figure()\n",
        "## Difference of close values for each date\n",
        "#plt.title('Difference of close values for each date')\n",
        "#plt.plot(np.diff(data.loc['2017-01-01':'2017-12-31']['Close']))\n",
        "#plt.figure()\n",
        "## Histogram for values\n",
        "#plt.title('Histogram for values of Close for each date')\n",
        "#plt.hist(np.diff(data.loc['2017-01-01':'2017-12-31']['Close']))\n",
        "## plt.title('Closing Price')\n",
        "## plt.show()\n",
        "#plt.figure(figsize=(10,6))\n",
        "## plt.grid(True)\n",
        "## plt.xlabel('Year')\n",
        "## plt.ylabel('Close Prices')\n",
        "## All close date in file\n",
        "#plt.title('All Close prices in file')\n",
        "#plt.plot(data['Close'])\n",
        "#plt.figure()\n",
        "## Difference of Close prices\n",
        "#plt.title('Difference of Close prices in file')\n",
        "#plt.plot(np.diff(data['Close']))\n",
        "#plt.figure()\n",
        "## Histogram for whole data\n",
        "#plt.title('Histogram for whole Close prices in file')\n",
        "#plt.hist(np.diff(data['Close']))\n",
        "#plt.figure()\n",
        "#df_close = data['Close']\n",
        "#df_close.plot(style='k.')\n",
        "#plt.title('Scatter plot of closing price')\n",
        "#plt.show()\n",
        "##data.shape\n",
        "## train, test = train_test_split(data, test_size=0.33)\n",
        "#data.head()\n",
        "df1=data.reset_index()['Close']\n",
        "#df1\n",
        "#plt.plot(df1)\n",
        "scaler=MinMaxScaler(feature_range=(0,1))\n",
        "df1=scaler.fit_transform(np.array(df1).reshape(-1,1))\n",
        "#print(df1)\n",
        "training_size=int(len(df1)*0.67)\n",
        "test_size=len(df1)-training_size\n",
        "train_data,test_data=df1[0:training_size,:],df1[training_size:len(df1),:1]\n",
        "training_size,test_size\n",
        "\n",
        "# convert an array of values into a dataset matrix\n",
        "def create_dataset(dataset, time_step=1):\n",
        "\tdataX, dataY = [], []\n",
        "\tfor i in range(len(dataset)-time_step-1):\n",
        "\t\ta = dataset[i:(i+time_step), 0]   ###i=0, 0,1,2,3-----99   100 \n",
        "\t\tdataX.append(a)\n",
        "\t\tdataY.append(dataset[i + time_step, 0])\n",
        "\treturn np.array(dataX), np.array(dataY)\n",
        " \n",
        " \n",
        "# reshape into X=t,t+1,t+2,t+3 and Y=t+4\n",
        "time_step = 100\n",
        "X_train, y_train = create_dataset(train_data, time_step)\n",
        "X_test, ytest = create_dataset(test_data, time_step)\n",
        "#print(X_train.shape), print(y_train.shape)\n",
        "\n",
        "# reshape input to be [samples, time steps, features] which is required for LSTM\n",
        "X_train =X_train.reshape(X_train.shape[0],X_train.shape[1] , 1)\n",
        "X_test = X_test.reshape(X_test.shape[0],X_test.shape[1] , 1)\n",
        "\n",
        "#X_train, X_test"
      ],
      "execution_count": 2,
      "outputs": [
        {
          "output_type": "stream",
          "text": [
            "/usr/local/lib/python3.6/dist-packages/ipykernel_launcher.py:9: FutureWarning: The pandas.datetime class is deprecated and will be removed from pandas in a future version. Import from datetime instead.\n",
            "  if __name__ == '__main__':\n"
          ],
          "name": "stderr"
        }
      ]
    },
    {
      "cell_type": "code",
      "metadata": {
        "colab": {
          "base_uri": "https://localhost:8080/"
        },
        "id": "JSS3pwF50pxL",
        "outputId": "ad093442-eac2-4422-9747-3a648d6895de"
      },
      "source": [
        "### Create the Stacked LSTM model\r\n",
        "from tensorflow.keras.models import Sequential\r\n",
        "from tensorflow.keras.layers import Dense\r\n",
        "from tensorflow.keras.layers import LSTM\r\n",
        "\r\n",
        "model=Sequential()\r\n",
        "model.add(LSTM(50,return_sequences=True,input_shape=(100,1)))\r\n",
        "model.add(LSTM(50,return_sequences=True))\r\n",
        "model.add(LSTM(50))\r\n",
        "model.add(Dense(1))\r\n",
        "model.compile(loss='mean_squared_error',optimizer='adam')\r\n",
        "model.summary()"
      ],
      "execution_count": 3,
      "outputs": [
        {
          "output_type": "stream",
          "text": [
            "Model: \"sequential\"\n",
            "_________________________________________________________________\n",
            "Layer (type)                 Output Shape              Param #   \n",
            "=================================================================\n",
            "lstm (LSTM)                  (None, 100, 50)           10400     \n",
            "_________________________________________________________________\n",
            "lstm_1 (LSTM)                (None, 100, 50)           20200     \n",
            "_________________________________________________________________\n",
            "lstm_2 (LSTM)                (None, 50)                20200     \n",
            "_________________________________________________________________\n",
            "dense (Dense)                (None, 1)                 51        \n",
            "=================================================================\n",
            "Total params: 50,851\n",
            "Trainable params: 50,851\n",
            "Non-trainable params: 0\n",
            "_________________________________________________________________\n"
          ],
          "name": "stdout"
        }
      ]
    },
    {
      "cell_type": "code",
      "metadata": {
        "colab": {
          "base_uri": "https://localhost:8080/"
        },
        "id": "KFPPw5_P1Az7",
        "outputId": "0ec2dacb-19d1-4c5b-a15d-0842db967f3e"
      },
      "source": [
        "model.fit(X_train,y_train,validation_data=(X_test,ytest),epochs=100,batch_size=64,verbose=1)"
      ],
      "execution_count": 4,
      "outputs": [
        {
          "output_type": "stream",
          "text": [
            "Epoch 1/100\n",
            "86/86 [==============================] - 21s 190ms/step - loss: 4.9943e-05 - val_loss: 6.1574e-04\n",
            "Epoch 2/100\n",
            "86/86 [==============================] - 15s 175ms/step - loss: 2.4026e-06 - val_loss: 5.4855e-04\n",
            "Epoch 3/100\n",
            "86/86 [==============================] - 15s 174ms/step - loss: 2.4642e-06 - val_loss: 5.0095e-04\n",
            "Epoch 4/100\n",
            "86/86 [==============================] - 15s 178ms/step - loss: 1.9460e-06 - val_loss: 5.2041e-04\n",
            "Epoch 5/100\n",
            "86/86 [==============================] - 15s 177ms/step - loss: 1.5379e-06 - val_loss: 5.8908e-04\n",
            "Epoch 6/100\n",
            "86/86 [==============================] - 15s 177ms/step - loss: 1.7892e-06 - val_loss: 3.7498e-04\n",
            "Epoch 7/100\n",
            "86/86 [==============================] - 15s 176ms/step - loss: 1.6721e-06 - val_loss: 6.6945e-04\n",
            "Epoch 8/100\n",
            "86/86 [==============================] - 15s 177ms/step - loss: 1.3083e-06 - val_loss: 3.6908e-04\n",
            "Epoch 9/100\n",
            "86/86 [==============================] - 15s 177ms/step - loss: 1.5495e-06 - val_loss: 3.3978e-04\n",
            "Epoch 10/100\n",
            "86/86 [==============================] - 15s 178ms/step - loss: 1.4325e-06 - val_loss: 5.1998e-04\n",
            "Epoch 11/100\n",
            "86/86 [==============================] - 15s 179ms/step - loss: 2.3059e-06 - val_loss: 3.8104e-04\n",
            "Epoch 12/100\n",
            "86/86 [==============================] - 15s 180ms/step - loss: 1.3812e-06 - val_loss: 2.8905e-04\n",
            "Epoch 13/100\n",
            "86/86 [==============================] - 15s 178ms/step - loss: 1.0746e-06 - val_loss: 2.7834e-04\n",
            "Epoch 14/100\n",
            "86/86 [==============================] - 15s 179ms/step - loss: 1.1623e-06 - val_loss: 4.0267e-04\n",
            "Epoch 15/100\n",
            "86/86 [==============================] - 15s 177ms/step - loss: 1.0928e-06 - val_loss: 5.0402e-04\n",
            "Epoch 16/100\n",
            "86/86 [==============================] - 16s 182ms/step - loss: 1.1959e-06 - val_loss: 2.4879e-04\n",
            "Epoch 17/100\n",
            "86/86 [==============================] - 15s 178ms/step - loss: 8.9413e-07 - val_loss: 3.8473e-04\n",
            "Epoch 18/100\n",
            "86/86 [==============================] - 15s 180ms/step - loss: 1.0249e-06 - val_loss: 6.2073e-04\n",
            "Epoch 19/100\n",
            "86/86 [==============================] - 15s 177ms/step - loss: 1.0323e-06 - val_loss: 3.8579e-04\n",
            "Epoch 20/100\n",
            "86/86 [==============================] - 15s 178ms/step - loss: 1.0621e-06 - val_loss: 3.3984e-04\n",
            "Epoch 21/100\n",
            "86/86 [==============================] - 15s 176ms/step - loss: 9.5206e-07 - val_loss: 2.4149e-04\n",
            "Epoch 22/100\n",
            "86/86 [==============================] - 15s 177ms/step - loss: 9.1502e-07 - val_loss: 2.4429e-04\n",
            "Epoch 23/100\n",
            "86/86 [==============================] - 15s 174ms/step - loss: 8.4381e-07 - val_loss: 4.5162e-04\n",
            "Epoch 24/100\n",
            "86/86 [==============================] - 15s 178ms/step - loss: 8.1802e-07 - val_loss: 2.4465e-04\n",
            "Epoch 25/100\n",
            "86/86 [==============================] - 15s 179ms/step - loss: 8.8251e-07 - val_loss: 2.6766e-04\n",
            "Epoch 26/100\n",
            "86/86 [==============================] - 15s 178ms/step - loss: 8.4055e-07 - val_loss: 2.1787e-04\n",
            "Epoch 27/100\n",
            "86/86 [==============================] - 15s 180ms/step - loss: 8.2280e-07 - val_loss: 3.8144e-04\n",
            "Epoch 28/100\n",
            "86/86 [==============================] - 15s 178ms/step - loss: 1.0817e-06 - val_loss: 2.9359e-04\n",
            "Epoch 29/100\n",
            "86/86 [==============================] - 15s 180ms/step - loss: 5.9318e-07 - val_loss: 3.3875e-04\n",
            "Epoch 30/100\n",
            "86/86 [==============================] - 15s 179ms/step - loss: 6.6302e-07 - val_loss: 2.8854e-04\n",
            "Epoch 31/100\n",
            "86/86 [==============================] - 15s 175ms/step - loss: 7.5254e-07 - val_loss: 2.0929e-04\n",
            "Epoch 32/100\n",
            "86/86 [==============================] - 15s 176ms/step - loss: 6.7748e-07 - val_loss: 2.6333e-04\n",
            "Epoch 33/100\n",
            "86/86 [==============================] - 15s 178ms/step - loss: 9.8535e-07 - val_loss: 4.4327e-04\n",
            "Epoch 34/100\n",
            "86/86 [==============================] - 15s 177ms/step - loss: 6.5040e-07 - val_loss: 4.0108e-04\n",
            "Epoch 35/100\n",
            "86/86 [==============================] - 15s 177ms/step - loss: 6.2106e-07 - val_loss: 3.2005e-04\n",
            "Epoch 36/100\n",
            "86/86 [==============================] - 15s 178ms/step - loss: 6.4461e-07 - val_loss: 5.6568e-04\n",
            "Epoch 37/100\n",
            "86/86 [==============================] - 15s 179ms/step - loss: 6.6491e-07 - val_loss: 1.9695e-04\n",
            "Epoch 38/100\n",
            "86/86 [==============================] - 16s 183ms/step - loss: 8.8350e-07 - val_loss: 3.3986e-04\n",
            "Epoch 39/100\n",
            "86/86 [==============================] - 15s 177ms/step - loss: 6.7548e-07 - val_loss: 0.0010\n",
            "Epoch 40/100\n",
            "86/86 [==============================] - 15s 178ms/step - loss: 7.3424e-07 - val_loss: 5.8590e-04\n",
            "Epoch 41/100\n",
            "86/86 [==============================] - 15s 180ms/step - loss: 5.3089e-07 - val_loss: 5.2888e-04\n",
            "Epoch 42/100\n",
            "86/86 [==============================] - 15s 177ms/step - loss: 8.6041e-07 - val_loss: 9.3314e-04\n",
            "Epoch 43/100\n",
            "86/86 [==============================] - 15s 177ms/step - loss: 6.2973e-07 - val_loss: 5.3528e-04\n",
            "Epoch 44/100\n",
            "86/86 [==============================] - 15s 176ms/step - loss: 8.1863e-07 - val_loss: 4.1221e-04\n",
            "Epoch 45/100\n",
            "86/86 [==============================] - 15s 176ms/step - loss: 7.4681e-07 - val_loss: 2.7359e-04\n",
            "Epoch 46/100\n",
            "86/86 [==============================] - 15s 178ms/step - loss: 5.0936e-07 - val_loss: 4.2799e-04\n",
            "Epoch 47/100\n",
            "86/86 [==============================] - 15s 176ms/step - loss: 6.5589e-07 - val_loss: 7.1302e-04\n",
            "Epoch 48/100\n",
            "86/86 [==============================] - 15s 176ms/step - loss: 5.4502e-07 - val_loss: 4.1366e-04\n",
            "Epoch 49/100\n",
            "86/86 [==============================] - 15s 177ms/step - loss: 5.1046e-07 - val_loss: 4.1647e-04\n",
            "Epoch 50/100\n",
            "86/86 [==============================] - 15s 180ms/step - loss: 4.3644e-07 - val_loss: 4.6883e-04\n",
            "Epoch 51/100\n",
            "86/86 [==============================] - 15s 176ms/step - loss: 6.3068e-07 - val_loss: 3.7720e-04\n",
            "Epoch 52/100\n",
            "86/86 [==============================] - 15s 177ms/step - loss: 4.8969e-07 - val_loss: 3.5832e-04\n",
            "Epoch 53/100\n",
            "86/86 [==============================] - 15s 174ms/step - loss: 5.1637e-07 - val_loss: 2.1939e-04\n",
            "Epoch 54/100\n",
            "86/86 [==============================] - 15s 176ms/step - loss: 3.5035e-07 - val_loss: 2.1930e-04\n",
            "Epoch 55/100\n",
            "86/86 [==============================] - 15s 177ms/step - loss: 6.1005e-07 - val_loss: 2.5148e-04\n",
            "Epoch 56/100\n",
            "86/86 [==============================] - 16s 181ms/step - loss: 5.0609e-07 - val_loss: 1.9107e-04\n",
            "Epoch 57/100\n",
            "86/86 [==============================] - 15s 180ms/step - loss: 4.8635e-07 - val_loss: 7.6343e-04\n",
            "Epoch 58/100\n",
            "86/86 [==============================] - 15s 178ms/step - loss: 5.6397e-07 - val_loss: 3.7667e-04\n",
            "Epoch 59/100\n",
            "86/86 [==============================] - 15s 179ms/step - loss: 6.2351e-07 - val_loss: 4.6747e-04\n",
            "Epoch 60/100\n",
            "86/86 [==============================] - 15s 177ms/step - loss: 4.0616e-07 - val_loss: 3.5184e-04\n",
            "Epoch 61/100\n",
            "86/86 [==============================] - 15s 179ms/step - loss: 4.1563e-07 - val_loss: 2.2521e-04\n",
            "Epoch 62/100\n",
            "86/86 [==============================] - 15s 178ms/step - loss: 4.1059e-07 - val_loss: 2.2930e-04\n",
            "Epoch 63/100\n",
            "86/86 [==============================] - 15s 178ms/step - loss: 4.7562e-07 - val_loss: 1.8831e-04\n",
            "Epoch 64/100\n",
            "86/86 [==============================] - 15s 176ms/step - loss: 4.2161e-07 - val_loss: 2.9842e-04\n",
            "Epoch 65/100\n",
            "86/86 [==============================] - 15s 181ms/step - loss: 5.5105e-07 - val_loss: 3.9859e-04\n",
            "Epoch 66/100\n",
            "86/86 [==============================] - 15s 179ms/step - loss: 4.2490e-07 - val_loss: 5.9842e-04\n",
            "Epoch 67/100\n",
            "86/86 [==============================] - 16s 181ms/step - loss: 3.7406e-07 - val_loss: 4.4700e-04\n",
            "Epoch 68/100\n",
            "86/86 [==============================] - 15s 180ms/step - loss: 4.4755e-07 - val_loss: 2.1232e-04\n",
            "Epoch 69/100\n",
            "86/86 [==============================] - 15s 180ms/step - loss: 4.4836e-07 - val_loss: 2.2030e-04\n",
            "Epoch 70/100\n",
            "86/86 [==============================] - 15s 180ms/step - loss: 3.5677e-07 - val_loss: 1.8537e-04\n",
            "Epoch 71/100\n",
            "86/86 [==============================] - 16s 183ms/step - loss: 5.3475e-07 - val_loss: 4.2652e-04\n",
            "Epoch 72/100\n",
            "86/86 [==============================] - 16s 181ms/step - loss: 4.7215e-07 - val_loss: 3.1042e-04\n",
            "Epoch 73/100\n",
            "86/86 [==============================] - 16s 185ms/step - loss: 3.5645e-07 - val_loss: 2.9186e-04\n",
            "Epoch 74/100\n",
            "86/86 [==============================] - 16s 181ms/step - loss: 3.7584e-07 - val_loss: 4.2156e-04\n",
            "Epoch 75/100\n",
            "86/86 [==============================] - 16s 180ms/step - loss: 3.1201e-07 - val_loss: 4.0998e-04\n",
            "Epoch 76/100\n",
            "86/86 [==============================] - 16s 182ms/step - loss: 3.8029e-07 - val_loss: 2.4168e-04\n",
            "Epoch 77/100\n",
            "86/86 [==============================] - 15s 180ms/step - loss: 3.9290e-07 - val_loss: 3.6477e-04\n",
            "Epoch 78/100\n",
            "86/86 [==============================] - 15s 179ms/step - loss: 4.0122e-07 - val_loss: 0.0011\n",
            "Epoch 79/100\n",
            "86/86 [==============================] - 16s 182ms/step - loss: 3.4166e-07 - val_loss: 2.6935e-04\n",
            "Epoch 80/100\n",
            "86/86 [==============================] - 16s 182ms/step - loss: 4.3248e-07 - val_loss: 3.2123e-04\n",
            "Epoch 81/100\n",
            "86/86 [==============================] - 16s 182ms/step - loss: 3.9592e-07 - val_loss: 4.4841e-04\n",
            "Epoch 82/100\n",
            "86/86 [==============================] - 15s 179ms/step - loss: 2.7608e-07 - val_loss: 5.5299e-04\n",
            "Epoch 83/100\n",
            "86/86 [==============================] - 15s 178ms/step - loss: 2.9719e-07 - val_loss: 1.9319e-04\n",
            "Epoch 84/100\n",
            "86/86 [==============================] - 15s 179ms/step - loss: 3.2274e-07 - val_loss: 4.8332e-04\n",
            "Epoch 85/100\n",
            "86/86 [==============================] - 15s 180ms/step - loss: 2.9788e-07 - val_loss: 4.9018e-04\n",
            "Epoch 86/100\n",
            "86/86 [==============================] - 16s 181ms/step - loss: 4.8033e-07 - val_loss: 4.7616e-04\n",
            "Epoch 87/100\n",
            "86/86 [==============================] - 16s 182ms/step - loss: 4.4760e-07 - val_loss: 4.0564e-04\n",
            "Epoch 88/100\n",
            "86/86 [==============================] - 16s 182ms/step - loss: 3.3275e-07 - val_loss: 2.5620e-04\n",
            "Epoch 89/100\n",
            "86/86 [==============================] - 15s 180ms/step - loss: 3.9587e-07 - val_loss: 4.8466e-04\n",
            "Epoch 90/100\n",
            "86/86 [==============================] - 15s 177ms/step - loss: 4.4111e-07 - val_loss: 4.4637e-04\n",
            "Epoch 91/100\n",
            "86/86 [==============================] - 15s 177ms/step - loss: 3.1780e-07 - val_loss: 2.5726e-04\n",
            "Epoch 92/100\n",
            "86/86 [==============================] - 15s 179ms/step - loss: 3.1403e-07 - val_loss: 6.4174e-04\n",
            "Epoch 93/100\n",
            "86/86 [==============================] - 16s 182ms/step - loss: 2.9911e-07 - val_loss: 5.2004e-04\n",
            "Epoch 94/100\n",
            "86/86 [==============================] - 16s 182ms/step - loss: 3.9468e-07 - val_loss: 2.6809e-04\n",
            "Epoch 95/100\n",
            "86/86 [==============================] - 16s 181ms/step - loss: 2.7099e-07 - val_loss: 4.5347e-04\n",
            "Epoch 96/100\n",
            "86/86 [==============================] - 16s 182ms/step - loss: 2.8629e-07 - val_loss: 4.4079e-04\n",
            "Epoch 97/100\n",
            "86/86 [==============================] - 15s 179ms/step - loss: 3.7746e-07 - val_loss: 5.4235e-04\n",
            "Epoch 98/100\n",
            "86/86 [==============================] - 16s 183ms/step - loss: 3.2855e-07 - val_loss: 4.1547e-04\n",
            "Epoch 99/100\n",
            "86/86 [==============================] - 16s 181ms/step - loss: 5.6841e-07 - val_loss: 5.1237e-04\n",
            "Epoch 100/100\n",
            "86/86 [==============================] - 15s 179ms/step - loss: 3.6994e-07 - val_loss: 9.0786e-04\n"
          ],
          "name": "stdout"
        },
        {
          "output_type": "execute_result",
          "data": {
            "text/plain": [
              "<tensorflow.python.keras.callbacks.History at 0x7f06795d2d68>"
            ]
          },
          "metadata": {
            "tags": []
          },
          "execution_count": 4
        }
      ]
    },
    {
      "cell_type": "code",
      "metadata": {
        "id": "X76fHPuy70ff"
      },
      "source": [
        "import tensorflow as tf\r\n",
        "### prediction and check performance metrics\r\n",
        "train_predict=model.predict(X_train)\r\n",
        "test_predict=model.predict(X_test)"
      ],
      "execution_count": 5,
      "outputs": []
    },
    {
      "cell_type": "code",
      "metadata": {
        "id": "wuv-iSJv8Yux"
      },
      "source": [
        "##Transformback to original form\r\n",
        "train_predict=scaler.inverse_transform(train_predict)\r\n",
        "test_predict=scaler.inverse_transform(test_predict)"
      ],
      "execution_count": 6,
      "outputs": []
    },
    {
      "cell_type": "code",
      "metadata": {
        "colab": {
          "base_uri": "https://localhost:8080/"
        },
        "id": "-lKJZ3Tr8ccM",
        "outputId": "901ea073-12ff-423e-b8b0-fb0dbe51108a"
      },
      "source": [
        "import math \r\n",
        "from sklearn.metrics import mean_squared_error\r\n",
        "math.sqrt(mean_squared_error(y_train,train_predict))"
      ],
      "execution_count": 7,
      "outputs": [
        {
          "output_type": "execute_result",
          "data": {
            "text/plain": [
              "2.6176253528005353"
            ]
          },
          "metadata": {
            "tags": []
          },
          "execution_count": 7
        }
      ]
    },
    {
      "cell_type": "code",
      "metadata": {
        "colab": {
          "base_uri": "https://localhost:8080/"
        },
        "id": "wI7NT1pB8jZG",
        "outputId": "e2605f5e-128e-451a-8dca-3d4f984d5045"
      },
      "source": [
        "### Test Data RMSE\r\n",
        "math.sqrt(mean_squared_error(ytest,test_predict))"
      ],
      "execution_count": 8,
      "outputs": [
        {
          "output_type": "execute_result",
          "data": {
            "text/plain": [
              "72.28795156779326"
            ]
          },
          "metadata": {
            "tags": []
          },
          "execution_count": 8
        }
      ]
    },
    {
      "cell_type": "code",
      "metadata": {
        "colab": {
          "base_uri": "https://localhost:8080/",
          "height": 265
        },
        "id": "GzEf2pH78nE9",
        "outputId": "c8670093-ce87-4be5-bb3b-4055f7b99994"
      },
      "source": [
        "### Plotting \r\n",
        "# shift train predictions for plotting\r\n",
        "look_back=100\r\n",
        "trainPredictPlot = np.empty_like(df1)\r\n",
        "trainPredictPlot[:, :] = np.nan\r\n",
        "trainPredictPlot[look_back:len(train_predict)+look_back, :] = train_predict\r\n",
        "# shift test predictions for plotting\r\n",
        "testPredictPlot = np.empty_like(df1)\r\n",
        "testPredictPlot[:, :] = np.nan\r\n",
        "testPredictPlot[len(train_predict)+(look_back*2)+1:len(df1)-1, :] = test_predict\r\n",
        "# plot baseline and predictions\r\n",
        "plt.plot(scaler.inverse_transform(df1))\r\n",
        "plt.plot(trainPredictPlot)\r\n",
        "#plt.figure()\r\n",
        "plt.plot(testPredictPlot)\r\n",
        "#plt.figure()\r\n",
        "plt.show()"
      ],
      "execution_count": 25,
      "outputs": [
        {
          "output_type": "display_data",
          "data": {
            "image/png": "[encoded data removed]",
            "text/plain": [
              "<Figure size 432x288 with 1 Axes>"
            ]
          },
          "metadata": {
            "tags": [],
            "needs_background": "light"
          }
        }
      ]
    },
    {
      "cell_type": "code",
      "metadata": {
        "colab": {
          "base_uri": "https://localhost:8080/"
        },
        "id": "dWULSejQ8vG0",
        "outputId": "f630a667-8b5f-428b-c8a4-6de975eec0ce"
      },
      "source": [
        "len(test_data)\r\n"
      ],
      "execution_count": 10,
      "outputs": [
        {
          "output_type": "execute_result",
          "data": {
            "text/plain": [
              "2761"
            ]
          },
          "metadata": {
            "tags": []
          },
          "execution_count": 10
        }
      ]
    },
    {
      "cell_type": "code",
      "metadata": {
        "colab": {
          "base_uri": "https://localhost:8080/"
        },
        "id": "ZmxAWoda8zSA",
        "outputId": "c98a419c-1f0a-46a9-d894-4a4cf352a759"
      },
      "source": [
        "x_input=test_data[(len(test_data) - 100):].reshape(1,-1)\r\n",
        "x_input.shape"
      ],
      "execution_count": 11,
      "outputs": [
        {
          "output_type": "execute_result",
          "data": {
            "text/plain": [
              "(1, 100)"
            ]
          },
          "metadata": {
            "tags": []
          },
          "execution_count": 11
        }
      ]
    },
    {
      "cell_type": "code",
      "metadata": {
        "id": "0SnqqZtd83P-"
      },
      "source": [
        "temp_input=list(x_input)\r\n",
        "temp_input=temp_input[0].tolist()"
      ],
      "execution_count": 12,
      "outputs": []
    },
    {
      "cell_type": "code",
      "metadata": {
        "colab": {
          "base_uri": "https://localhost:8080/"
        },
        "id": "HplazH4M8806",
        "outputId": "89b0628a-0bf9-4ed3-857a-6cf76b92eb33"
      },
      "source": [
        "# demonstrate prediction for next 10 days\r\n",
        "from numpy import array\r\n",
        "\r\n",
        "lst_output=[]\r\n",
        "n_steps=100\r\n",
        "i=0\r\n",
        "while(i<30):\r\n",
        "    \r\n",
        "    if(len(temp_input)>100):\r\n",
        "        #print(temp_input)\r\n",
        "        x_input=np.array(temp_input[1:])\r\n",
        "        print(\"{} day input {}\".format(i,x_input))\r\n",
        "        x_input=x_input.reshape(1,-1)\r\n",
        "        x_input = x_input.reshape((1, n_steps, 1))\r\n",
        "        #print(x_input)\r\n",
        "        yhat = model.predict(x_input, verbose=0)\r\n",
        "        print(\"{} day output {}\".format(i,yhat))\r\n",
        "        temp_input.extend(yhat[0].tolist())\r\n",
        "        temp_input=temp_input[1:]\r\n",
        "        #print(temp_input)\r\n",
        "        lst_output.extend(yhat.tolist())\r\n",
        "        i=i+1\r\n",
        "    else:\r\n",
        "        x_input = x_input.reshape((1, n_steps,1))\r\n",
        "        yhat = model.predict(x_input, verbose=0)\r\n",
        "        print(yhat[0])\r\n",
        "        temp_input.extend(yhat[0].tolist())\r\n",
        "        print(len(temp_input))\r\n",
        "        lst_output.extend(yhat.tolist())\r\n",
        "        i=i+1\r\n",
        "  \r\n",
        "print(lst_output)"
      ],
      "execution_count": 13,
      "outputs": [
        {
          "output_type": "stream",
          "text": [
            "[0.88430345]\n",
            "101\n",
            "1 day input [0.82654756 0.82392468 0.8121217  0.8239817  0.81183661 0.81377526\n",
            " 0.81081026 0.81417439 0.80641978 0.81468757 0.81959122 0.82227112\n",
            " 0.82346853 0.83492939 0.84217083 0.84507881 0.84798679 0.85334659\n",
            " 0.84946929 0.84907015 0.85944765 0.86309688 0.86714524 0.85072371\n",
            " 0.84479371 0.84040323 0.84781573 0.88801427 0.87906226 0.88373783\n",
            " 0.89742244 0.90460686 0.91019474 0.88111495 0.8934311  0.90688763\n",
            " 0.91680897 0.91310272 0.89554081 0.89354513 0.89189158 0.9064885\n",
            " 0.90762888 0.90358052 0.90694465 0.91606772 0.92427849 0.92673031\n",
            " 0.93043656 0.93072166 0.91954589 0.91857657 0.91487032 0.89993129\n",
            " 0.91623878 0.91258955 0.90574725 0.89793561 0.90705869 0.90015936\n",
            " 0.90050148 0.88539139 0.87016726 0.8616714  0.85403082 0.86874178\n",
            " 0.87495687 0.86954005 0.87432966 0.87256207 0.87632533 0.87068043\n",
            " 0.88151408 0.88100091 0.88407995 0.88442206 0.88812831 0.88499225\n",
            " 0.89063715 0.90705869 0.91042282 0.90637446 0.88487821 0.88641773\n",
            " 0.88596158 0.89126437 0.88733004 0.89303196 0.92507676 0.94588877\n",
            " 0.95906021 0.9468581  0.95381444 0.97873183 0.9887102  0.99184625\n",
            " 1.         0.99794731 0.99464019 0.88430345]\n",
            "1 day output [[0.8491372]]\n",
            "2 day input [0.82392468 0.8121217  0.8239817  0.81183661 0.81377526 0.81081026\n",
            " 0.81417439 0.80641978 0.81468757 0.81959122 0.82227112 0.82346853\n",
            " 0.83492939 0.84217083 0.84507881 0.84798679 0.85334659 0.84946929\n",
            " 0.84907015 0.85944765 0.86309688 0.86714524 0.85072371 0.84479371\n",
            " 0.84040323 0.84781573 0.88801427 0.87906226 0.88373783 0.89742244\n",
            " 0.90460686 0.91019474 0.88111495 0.8934311  0.90688763 0.91680897\n",
            " 0.91310272 0.89554081 0.89354513 0.89189158 0.9064885  0.90762888\n",
            " 0.90358052 0.90694465 0.91606772 0.92427849 0.92673031 0.93043656\n",
            " 0.93072166 0.91954589 0.91857657 0.91487032 0.89993129 0.91623878\n",
            " 0.91258955 0.90574725 0.89793561 0.90705869 0.90015936 0.90050148\n",
            " 0.88539139 0.87016726 0.8616714  0.85403082 0.86874178 0.87495687\n",
            " 0.86954005 0.87432966 0.87256207 0.87632533 0.87068043 0.88151408\n",
            " 0.88100091 0.88407995 0.88442206 0.88812831 0.88499225 0.89063715\n",
            " 0.90705869 0.91042282 0.90637446 0.88487821 0.88641773 0.88596158\n",
            " 0.89126437 0.88733004 0.89303196 0.92507676 0.94588877 0.95906021\n",
            " 0.9468581  0.95381444 0.97873183 0.9887102  0.99184625 1.\n",
            " 0.99794731 0.99464019 0.88430345 0.84913719]\n",
            "2 day output [[0.8024834]]\n",
            "3 day input [0.8121217  0.8239817  0.81183661 0.81377526 0.81081026 0.81417439\n",
            " 0.80641978 0.81468757 0.81959122 0.82227112 0.82346853 0.83492939\n",
            " 0.84217083 0.84507881 0.84798679 0.85334659 0.84946929 0.84907015\n",
            " 0.85944765 0.86309688 0.86714524 0.85072371 0.84479371 0.84040323\n",
            " 0.84781573 0.88801427 0.87906226 0.88373783 0.89742244 0.90460686\n",
            " 0.91019474 0.88111495 0.8934311  0.90688763 0.91680897 0.91310272\n",
            " 0.89554081 0.89354513 0.89189158 0.9064885  0.90762888 0.90358052\n",
            " 0.90694465 0.91606772 0.92427849 0.92673031 0.93043656 0.93072166\n",
            " 0.91954589 0.91857657 0.91487032 0.89993129 0.91623878 0.91258955\n",
            " 0.90574725 0.89793561 0.90705869 0.90015936 0.90050148 0.88539139\n",
            " 0.87016726 0.8616714  0.85403082 0.86874178 0.87495687 0.86954005\n",
            " 0.87432966 0.87256207 0.87632533 0.87068043 0.88151408 0.88100091\n",
            " 0.88407995 0.88442206 0.88812831 0.88499225 0.89063715 0.90705869\n",
            " 0.91042282 0.90637446 0.88487821 0.88641773 0.88596158 0.89126437\n",
            " 0.88733004 0.89303196 0.92507676 0.94588877 0.95906021 0.9468581\n",
            " 0.95381444 0.97873183 0.9887102  0.99184625 1.         0.99794731\n",
            " 0.99464019 0.88430345 0.84913719 0.80248338]\n",
            "3 day output [[0.75513667]]\n",
            "4 day input [0.8239817  0.81183661 0.81377526 0.81081026 0.81417439 0.80641978\n",
            " 0.81468757 0.81959122 0.82227112 0.82346853 0.83492939 0.84217083\n",
            " 0.84507881 0.84798679 0.85334659 0.84946929 0.84907015 0.85944765\n",
            " 0.86309688 0.86714524 0.85072371 0.84479371 0.84040323 0.84781573\n",
            " 0.88801427 0.87906226 0.88373783 0.89742244 0.90460686 0.91019474\n",
            " 0.88111495 0.8934311  0.90688763 0.91680897 0.91310272 0.89554081\n",
            " 0.89354513 0.89189158 0.9064885  0.90762888 0.90358052 0.90694465\n",
            " 0.91606772 0.92427849 0.92673031 0.93043656 0.93072166 0.91954589\n",
            " 0.91857657 0.91487032 0.89993129 0.91623878 0.91258955 0.90574725\n",
            " 0.89793561 0.90705869 0.90015936 0.90050148 0.88539139 0.87016726\n",
            " 0.8616714  0.85403082 0.86874178 0.87495687 0.86954005 0.87432966\n",
            " 0.87256207 0.87632533 0.87068043 0.88151408 0.88100091 0.88407995\n",
            " 0.88442206 0.88812831 0.88499225 0.89063715 0.90705869 0.91042282\n",
            " 0.90637446 0.88487821 0.88641773 0.88596158 0.89126437 0.88733004\n",
            " 0.89303196 0.92507676 0.94588877 0.95906021 0.9468581  0.95381444\n",
            " 0.97873183 0.9887102  0.99184625 1.         0.99794731 0.99464019\n",
            " 0.88430345 0.84913719 0.80248338 0.75513667]\n",
            "4 day output [[0.7110235]]\n",
            "5 day input [0.81183661 0.81377526 0.81081026 0.81417439 0.80641978 0.81468757\n",
            " 0.81959122 0.82227112 0.82346853 0.83492939 0.84217083 0.84507881\n",
            " 0.84798679 0.85334659 0.84946929 0.84907015 0.85944765 0.86309688\n",
            " 0.86714524 0.85072371 0.84479371 0.84040323 0.84781573 0.88801427\n",
            " 0.87906226 0.88373783 0.89742244 0.90460686 0.91019474 0.88111495\n",
            " 0.8934311  0.90688763 0.91680897 0.91310272 0.89554081 0.89354513\n",
            " 0.89189158 0.9064885  0.90762888 0.90358052 0.90694465 0.91606772\n",
            " 0.92427849 0.92673031 0.93043656 0.93072166 0.91954589 0.91857657\n",
            " 0.91487032 0.89993129 0.91623878 0.91258955 0.90574725 0.89793561\n",
            " 0.90705869 0.90015936 0.90050148 0.88539139 0.87016726 0.8616714\n",
            " 0.85403082 0.86874178 0.87495687 0.86954005 0.87432966 0.87256207\n",
            " 0.87632533 0.87068043 0.88151408 0.88100091 0.88407995 0.88442206\n",
            " 0.88812831 0.88499225 0.89063715 0.90705869 0.91042282 0.90637446\n",
            " 0.88487821 0.88641773 0.88596158 0.89126437 0.88733004 0.89303196\n",
            " 0.92507676 0.94588877 0.95906021 0.9468581  0.95381444 0.97873183\n",
            " 0.9887102  0.99184625 1.         0.99794731 0.99464019 0.88430345\n",
            " 0.84913719 0.80248338 0.75513667 0.71102351]\n",
            "5 day output [[0.6714584]]\n",
            "6 day input [0.81377526 0.81081026 0.81417439 0.80641978 0.81468757 0.81959122\n",
            " 0.82227112 0.82346853 0.83492939 0.84217083 0.84507881 0.84798679\n",
            " 0.85334659 0.84946929 0.84907015 0.85944765 0.86309688 0.86714524\n",
            " 0.85072371 0.84479371 0.84040323 0.84781573 0.88801427 0.87906226\n",
            " 0.88373783 0.89742244 0.90460686 0.91019474 0.88111495 0.8934311\n",
            " 0.90688763 0.91680897 0.91310272 0.89554081 0.89354513 0.89189158\n",
            " 0.9064885  0.90762888 0.90358052 0.90694465 0.91606772 0.92427849\n",
            " 0.92673031 0.93043656 0.93072166 0.91954589 0.91857657 0.91487032\n",
            " 0.89993129 0.91623878 0.91258955 0.90574725 0.89793561 0.90705869\n",
            " 0.90015936 0.90050148 0.88539139 0.87016726 0.8616714  0.85403082\n",
            " 0.86874178 0.87495687 0.86954005 0.87432966 0.87256207 0.87632533\n",
            " 0.87068043 0.88151408 0.88100091 0.88407995 0.88442206 0.88812831\n",
            " 0.88499225 0.89063715 0.90705869 0.91042282 0.90637446 0.88487821\n",
            " 0.88641773 0.88596158 0.89126437 0.88733004 0.89303196 0.92507676\n",
            " 0.94588877 0.95906021 0.9468581  0.95381444 0.97873183 0.9887102\n",
            " 0.99184625 1.         0.99794731 0.99464019 0.88430345 0.84913719\n",
            " 0.80248338 0.75513667 0.71102351 0.67145842]\n",
            "6 day output [[0.6368873]]\n",
            "7 day input [0.81081026 0.81417439 0.80641978 0.81468757 0.81959122 0.82227112\n",
            " 0.82346853 0.83492939 0.84217083 0.84507881 0.84798679 0.85334659\n",
            " 0.84946929 0.84907015 0.85944765 0.86309688 0.86714524 0.85072371\n",
            " 0.84479371 0.84040323 0.84781573 0.88801427 0.87906226 0.88373783\n",
            " 0.89742244 0.90460686 0.91019474 0.88111495 0.8934311  0.90688763\n",
            " 0.91680897 0.91310272 0.89554081 0.89354513 0.89189158 0.9064885\n",
            " 0.90762888 0.90358052 0.90694465 0.91606772 0.92427849 0.92673031\n",
            " 0.93043656 0.93072166 0.91954589 0.91857657 0.91487032 0.89993129\n",
            " 0.91623878 0.91258955 0.90574725 0.89793561 0.90705869 0.90015936\n",
            " 0.90050148 0.88539139 0.87016726 0.8616714  0.85403082 0.86874178\n",
            " 0.87495687 0.86954005 0.87432966 0.87256207 0.87632533 0.87068043\n",
            " 0.88151408 0.88100091 0.88407995 0.88442206 0.88812831 0.88499225\n",
            " 0.89063715 0.90705869 0.91042282 0.90637446 0.88487821 0.88641773\n",
            " 0.88596158 0.89126437 0.88733004 0.89303196 0.92507676 0.94588877\n",
            " 0.95906021 0.9468581  0.95381444 0.97873183 0.9887102  0.99184625\n",
            " 1.         0.99794731 0.99464019 0.88430345 0.84913719 0.80248338\n",
            " 0.75513667 0.71102351 0.67145842 0.63688731]\n",
            "7 day output [[0.607344]]\n",
            "8 day input [0.81417439 0.80641978 0.81468757 0.81959122 0.82227112 0.82346853\n",
            " 0.83492939 0.84217083 0.84507881 0.84798679 0.85334659 0.84946929\n",
            " 0.84907015 0.85944765 0.86309688 0.86714524 0.85072371 0.84479371\n",
            " 0.84040323 0.84781573 0.88801427 0.87906226 0.88373783 0.89742244\n",
            " 0.90460686 0.91019474 0.88111495 0.8934311  0.90688763 0.91680897\n",
            " 0.91310272 0.89554081 0.89354513 0.89189158 0.9064885  0.90762888\n",
            " 0.90358052 0.90694465 0.91606772 0.92427849 0.92673031 0.93043656\n",
            " 0.93072166 0.91954589 0.91857657 0.91487032 0.89993129 0.91623878\n",
            " 0.91258955 0.90574725 0.89793561 0.90705869 0.90015936 0.90050148\n",
            " 0.88539139 0.87016726 0.8616714  0.85403082 0.86874178 0.87495687\n",
            " 0.86954005 0.87432966 0.87256207 0.87632533 0.87068043 0.88151408\n",
            " 0.88100091 0.88407995 0.88442206 0.88812831 0.88499225 0.89063715\n",
            " 0.90705869 0.91042282 0.90637446 0.88487821 0.88641773 0.88596158\n",
            " 0.89126437 0.88733004 0.89303196 0.92507676 0.94588877 0.95906021\n",
            " 0.9468581  0.95381444 0.97873183 0.9887102  0.99184625 1.\n",
            " 0.99794731 0.99464019 0.88430345 0.84913719 0.80248338 0.75513667\n",
            " 0.71102351 0.67145842 0.63688731 0.60734397]\n",
            "8 day output [[0.5825419]]\n",
            "9 day input [0.80641978 0.81468757 0.81959122 0.82227112 0.82346853 0.83492939\n",
            " 0.84217083 0.84507881 0.84798679 0.85334659 0.84946929 0.84907015\n",
            " 0.85944765 0.86309688 0.86714524 0.85072371 0.84479371 0.84040323\n",
            " 0.84781573 0.88801427 0.87906226 0.88373783 0.89742244 0.90460686\n",
            " 0.91019474 0.88111495 0.8934311  0.90688763 0.91680897 0.91310272\n",
            " 0.89554081 0.89354513 0.89189158 0.9064885  0.90762888 0.90358052\n",
            " 0.90694465 0.91606772 0.92427849 0.92673031 0.93043656 0.93072166\n",
            " 0.91954589 0.91857657 0.91487032 0.89993129 0.91623878 0.91258955\n",
            " 0.90574725 0.89793561 0.90705869 0.90015936 0.90050148 0.88539139\n",
            " 0.87016726 0.8616714  0.85403082 0.86874178 0.87495687 0.86954005\n",
            " 0.87432966 0.87256207 0.87632533 0.87068043 0.88151408 0.88100091\n",
            " 0.88407995 0.88442206 0.88812831 0.88499225 0.89063715 0.90705869\n",
            " 0.91042282 0.90637446 0.88487821 0.88641773 0.88596158 0.89126437\n",
            " 0.88733004 0.89303196 0.92507676 0.94588877 0.95906021 0.9468581\n",
            " 0.95381444 0.97873183 0.9887102  0.99184625 1.         0.99794731\n",
            " 0.99464019 0.88430345 0.84913719 0.80248338 0.75513667 0.71102351\n",
            " 0.67145842 0.63688731 0.60734397 0.58254188]\n",
            "9 day output [[0.561931]]\n",
            "10 day input [0.81468757 0.81959122 0.82227112 0.82346853 0.83492939 0.84217083\n",
            " 0.84507881 0.84798679 0.85334659 0.84946929 0.84907015 0.85944765\n",
            " 0.86309688 0.86714524 0.85072371 0.84479371 0.84040323 0.84781573\n",
            " 0.88801427 0.87906226 0.88373783 0.89742244 0.90460686 0.91019474\n",
            " 0.88111495 0.8934311  0.90688763 0.91680897 0.91310272 0.89554081\n",
            " 0.89354513 0.89189158 0.9064885  0.90762888 0.90358052 0.90694465\n",
            " 0.91606772 0.92427849 0.92673031 0.93043656 0.93072166 0.91954589\n",
            " 0.91857657 0.91487032 0.89993129 0.91623878 0.91258955 0.90574725\n",
            " 0.89793561 0.90705869 0.90015936 0.90050148 0.88539139 0.87016726\n",
            " 0.8616714  0.85403082 0.86874178 0.87495687 0.86954005 0.87432966\n",
            " 0.87256207 0.87632533 0.87068043 0.88151408 0.88100091 0.88407995\n",
            " 0.88442206 0.88812831 0.88499225 0.89063715 0.90705869 0.91042282\n",
            " 0.90637446 0.88487821 0.88641773 0.88596158 0.89126437 0.88733004\n",
            " 0.89303196 0.92507676 0.94588877 0.95906021 0.9468581  0.95381444\n",
            " 0.97873183 0.9887102  0.99184625 1.         0.99794731 0.99464019\n",
            " 0.88430345 0.84913719 0.80248338 0.75513667 0.71102351 0.67145842\n",
            " 0.63688731 0.60734397 0.58254188 0.56193101]\n",
            "10 day output [[0.5447782]]\n",
            "11 day input [0.81959122 0.82227112 0.82346853 0.83492939 0.84217083 0.84507881\n",
            " 0.84798679 0.85334659 0.84946929 0.84907015 0.85944765 0.86309688\n",
            " 0.86714524 0.85072371 0.84479371 0.84040323 0.84781573 0.88801427\n",
            " 0.87906226 0.88373783 0.89742244 0.90460686 0.91019474 0.88111495\n",
            " 0.8934311  0.90688763 0.91680897 0.91310272 0.89554081 0.89354513\n",
            " 0.89189158 0.9064885  0.90762888 0.90358052 0.90694465 0.91606772\n",
            " 0.92427849 0.92673031 0.93043656 0.93072166 0.91954589 0.91857657\n",
            " 0.91487032 0.89993129 0.91623878 0.91258955 0.90574725 0.89793561\n",
            " 0.90705869 0.90015936 0.90050148 0.88539139 0.87016726 0.8616714\n",
            " 0.85403082 0.86874178 0.87495687 0.86954005 0.87432966 0.87256207\n",
            " 0.87632533 0.87068043 0.88151408 0.88100091 0.88407995 0.88442206\n",
            " 0.88812831 0.88499225 0.89063715 0.90705869 0.91042282 0.90637446\n",
            " 0.88487821 0.88641773 0.88596158 0.89126437 0.88733004 0.89303196\n",
            " 0.92507676 0.94588877 0.95906021 0.9468581  0.95381444 0.97873183\n",
            " 0.9887102  0.99184625 1.         0.99794731 0.99464019 0.88430345\n",
            " 0.84913719 0.80248338 0.75513667 0.71102351 0.67145842 0.63688731\n",
            " 0.60734397 0.58254188 0.56193101 0.54477823]\n",
            "11 day output [[0.5302654]]\n",
            "12 day input [0.82227112 0.82346853 0.83492939 0.84217083 0.84507881 0.84798679\n",
            " 0.85334659 0.84946929 0.84907015 0.85944765 0.86309688 0.86714524\n",
            " 0.85072371 0.84479371 0.84040323 0.84781573 0.88801427 0.87906226\n",
            " 0.88373783 0.89742244 0.90460686 0.91019474 0.88111495 0.8934311\n",
            " 0.90688763 0.91680897 0.91310272 0.89554081 0.89354513 0.89189158\n",
            " 0.9064885  0.90762888 0.90358052 0.90694465 0.91606772 0.92427849\n",
            " 0.92673031 0.93043656 0.93072166 0.91954589 0.91857657 0.91487032\n",
            " 0.89993129 0.91623878 0.91258955 0.90574725 0.89793561 0.90705869\n",
            " 0.90015936 0.90050148 0.88539139 0.87016726 0.8616714  0.85403082\n",
            " 0.86874178 0.87495687 0.86954005 0.87432966 0.87256207 0.87632533\n",
            " 0.87068043 0.88151408 0.88100091 0.88407995 0.88442206 0.88812831\n",
            " 0.88499225 0.89063715 0.90705869 0.91042282 0.90637446 0.88487821\n",
            " 0.88641773 0.88596158 0.89126437 0.88733004 0.89303196 0.92507676\n",
            " 0.94588877 0.95906021 0.9468581  0.95381444 0.97873183 0.9887102\n",
            " 0.99184625 1.         0.99794731 0.99464019 0.88430345 0.84913719\n",
            " 0.80248338 0.75513667 0.71102351 0.67145842 0.63688731 0.60734397\n",
            " 0.58254188 0.56193101 0.54477823 0.53026539]\n",
            "12 day output [[0.5175825]]\n",
            "13 day input [0.82346853 0.83492939 0.84217083 0.84507881 0.84798679 0.85334659\n",
            " 0.84946929 0.84907015 0.85944765 0.86309688 0.86714524 0.85072371\n",
            " 0.84479371 0.84040323 0.84781573 0.88801427 0.87906226 0.88373783\n",
            " 0.89742244 0.90460686 0.91019474 0.88111495 0.8934311  0.90688763\n",
            " 0.91680897 0.91310272 0.89554081 0.89354513 0.89189158 0.9064885\n",
            " 0.90762888 0.90358052 0.90694465 0.91606772 0.92427849 0.92673031\n",
            " 0.93043656 0.93072166 0.91954589 0.91857657 0.91487032 0.89993129\n",
            " 0.91623878 0.91258955 0.90574725 0.89793561 0.90705869 0.90015936\n",
            " 0.90050148 0.88539139 0.87016726 0.8616714  0.85403082 0.86874178\n",
            " 0.87495687 0.86954005 0.87432966 0.87256207 0.87632533 0.87068043\n",
            " 0.88151408 0.88100091 0.88407995 0.88442206 0.88812831 0.88499225\n",
            " 0.89063715 0.90705869 0.91042282 0.90637446 0.88487821 0.88641773\n",
            " 0.88596158 0.89126437 0.88733004 0.89303196 0.92507676 0.94588877\n",
            " 0.95906021 0.9468581  0.95381444 0.97873183 0.9887102  0.99184625\n",
            " 1.         0.99794731 0.99464019 0.88430345 0.84913719 0.80248338\n",
            " 0.75513667 0.71102351 0.67145842 0.63688731 0.60734397 0.58254188\n",
            " 0.56193101 0.54477823 0.53026539 0.51758248]\n",
            "13 day output [[0.5060063]]\n",
            "14 day input [0.83492939 0.84217083 0.84507881 0.84798679 0.85334659 0.84946929\n",
            " 0.84907015 0.85944765 0.86309688 0.86714524 0.85072371 0.84479371\n",
            " 0.84040323 0.84781573 0.88801427 0.87906226 0.88373783 0.89742244\n",
            " 0.90460686 0.91019474 0.88111495 0.8934311  0.90688763 0.91680897\n",
            " 0.91310272 0.89554081 0.89354513 0.89189158 0.9064885  0.90762888\n",
            " 0.90358052 0.90694465 0.91606772 0.92427849 0.92673031 0.93043656\n",
            " 0.93072166 0.91954589 0.91857657 0.91487032 0.89993129 0.91623878\n",
            " 0.91258955 0.90574725 0.89793561 0.90705869 0.90015936 0.90050148\n",
            " 0.88539139 0.87016726 0.8616714  0.85403082 0.86874178 0.87495687\n",
            " 0.86954005 0.87432966 0.87256207 0.87632533 0.87068043 0.88151408\n",
            " 0.88100091 0.88407995 0.88442206 0.88812831 0.88499225 0.89063715\n",
            " 0.90705869 0.91042282 0.90637446 0.88487821 0.88641773 0.88596158\n",
            " 0.89126437 0.88733004 0.89303196 0.92507676 0.94588877 0.95906021\n",
            " 0.9468581  0.95381444 0.97873183 0.9887102  0.99184625 1.\n",
            " 0.99794731 0.99464019 0.88430345 0.84913719 0.80248338 0.75513667\n",
            " 0.71102351 0.67145842 0.63688731 0.60734397 0.58254188 0.56193101\n",
            " 0.54477823 0.53026539 0.51758248 0.5060063 ]\n",
            "14 day output [[0.49495035]]\n",
            "15 day input [0.84217083 0.84507881 0.84798679 0.85334659 0.84946929 0.84907015\n",
            " 0.85944765 0.86309688 0.86714524 0.85072371 0.84479371 0.84040323\n",
            " 0.84781573 0.88801427 0.87906226 0.88373783 0.89742244 0.90460686\n",
            " 0.91019474 0.88111495 0.8934311  0.90688763 0.91680897 0.91310272\n",
            " 0.89554081 0.89354513 0.89189158 0.9064885  0.90762888 0.90358052\n",
            " 0.90694465 0.91606772 0.92427849 0.92673031 0.93043656 0.93072166\n",
            " 0.91954589 0.91857657 0.91487032 0.89993129 0.91623878 0.91258955\n",
            " 0.90574725 0.89793561 0.90705869 0.90015936 0.90050148 0.88539139\n",
            " 0.87016726 0.8616714  0.85403082 0.86874178 0.87495687 0.86954005\n",
            " 0.87432966 0.87256207 0.87632533 0.87068043 0.88151408 0.88100091\n",
            " 0.88407995 0.88442206 0.88812831 0.88499225 0.89063715 0.90705869\n",
            " 0.91042282 0.90637446 0.88487821 0.88641773 0.88596158 0.89126437\n",
            " 0.88733004 0.89303196 0.92507676 0.94588877 0.95906021 0.9468581\n",
            " 0.95381444 0.97873183 0.9887102  0.99184625 1.         0.99794731\n",
            " 0.99464019 0.88430345 0.84913719 0.80248338 0.75513667 0.71102351\n",
            " 0.67145842 0.63688731 0.60734397 0.58254188 0.56193101 0.54477823\n",
            " 0.53026539 0.51758248 0.5060063  0.49495035]\n",
            "15 day output [[0.48399216]]\n",
            "16 day input [0.84507881 0.84798679 0.85334659 0.84946929 0.84907015 0.85944765\n",
            " 0.86309688 0.86714524 0.85072371 0.84479371 0.84040323 0.84781573\n",
            " 0.88801427 0.87906226 0.88373783 0.89742244 0.90460686 0.91019474\n",
            " 0.88111495 0.8934311  0.90688763 0.91680897 0.91310272 0.89554081\n",
            " 0.89354513 0.89189158 0.9064885  0.90762888 0.90358052 0.90694465\n",
            " 0.91606772 0.92427849 0.92673031 0.93043656 0.93072166 0.91954589\n",
            " 0.91857657 0.91487032 0.89993129 0.91623878 0.91258955 0.90574725\n",
            " 0.89793561 0.90705869 0.90015936 0.90050148 0.88539139 0.87016726\n",
            " 0.8616714  0.85403082 0.86874178 0.87495687 0.86954005 0.87432966\n",
            " 0.87256207 0.87632533 0.87068043 0.88151408 0.88100091 0.88407995\n",
            " 0.88442206 0.88812831 0.88499225 0.89063715 0.90705869 0.91042282\n",
            " 0.90637446 0.88487821 0.88641773 0.88596158 0.89126437 0.88733004\n",
            " 0.89303196 0.92507676 0.94588877 0.95906021 0.9468581  0.95381444\n",
            " 0.97873183 0.9887102  0.99184625 1.         0.99794731 0.99464019\n",
            " 0.88430345 0.84913719 0.80248338 0.75513667 0.71102351 0.67145842\n",
            " 0.63688731 0.60734397 0.58254188 0.56193101 0.54477823 0.53026539\n",
            " 0.51758248 0.5060063  0.49495035 0.48399216]\n",
            "16 day output [[0.47287327]]\n",
            "17 day input [0.84798679 0.85334659 0.84946929 0.84907015 0.85944765 0.86309688\n",
            " 0.86714524 0.85072371 0.84479371 0.84040323 0.84781573 0.88801427\n",
            " 0.87906226 0.88373783 0.89742244 0.90460686 0.91019474 0.88111495\n",
            " 0.8934311  0.90688763 0.91680897 0.91310272 0.89554081 0.89354513\n",
            " 0.89189158 0.9064885  0.90762888 0.90358052 0.90694465 0.91606772\n",
            " 0.92427849 0.92673031 0.93043656 0.93072166 0.91954589 0.91857657\n",
            " 0.91487032 0.89993129 0.91623878 0.91258955 0.90574725 0.89793561\n",
            " 0.90705869 0.90015936 0.90050148 0.88539139 0.87016726 0.8616714\n",
            " 0.85403082 0.86874178 0.87495687 0.86954005 0.87432966 0.87256207\n",
            " 0.87632533 0.87068043 0.88151408 0.88100091 0.88407995 0.88442206\n",
            " 0.88812831 0.88499225 0.89063715 0.90705869 0.91042282 0.90637446\n",
            " 0.88487821 0.88641773 0.88596158 0.89126437 0.88733004 0.89303196\n",
            " 0.92507676 0.94588877 0.95906021 0.9468581  0.95381444 0.97873183\n",
            " 0.9887102  0.99184625 1.         0.99794731 0.99464019 0.88430345\n",
            " 0.84913719 0.80248338 0.75513667 0.71102351 0.67145842 0.63688731\n",
            " 0.60734397 0.58254188 0.56193101 0.54477823 0.53026539 0.51758248\n",
            " 0.5060063  0.49495035 0.48399216 0.47287327]\n",
            "17 day output [[0.46148193]]\n",
            "18 day input [0.85334659 0.84946929 0.84907015 0.85944765 0.86309688 0.86714524\n",
            " 0.85072371 0.84479371 0.84040323 0.84781573 0.88801427 0.87906226\n",
            " 0.88373783 0.89742244 0.90460686 0.91019474 0.88111495 0.8934311\n",
            " 0.90688763 0.91680897 0.91310272 0.89554081 0.89354513 0.89189158\n",
            " 0.9064885  0.90762888 0.90358052 0.90694465 0.91606772 0.92427849\n",
            " 0.92673031 0.93043656 0.93072166 0.91954589 0.91857657 0.91487032\n",
            " 0.89993129 0.91623878 0.91258955 0.90574725 0.89793561 0.90705869\n",
            " 0.90015936 0.90050148 0.88539139 0.87016726 0.8616714  0.85403082\n",
            " 0.86874178 0.87495687 0.86954005 0.87432966 0.87256207 0.87632533\n",
            " 0.87068043 0.88151408 0.88100091 0.88407995 0.88442206 0.88812831\n",
            " 0.88499225 0.89063715 0.90705869 0.91042282 0.90637446 0.88487821\n",
            " 0.88641773 0.88596158 0.89126437 0.88733004 0.89303196 0.92507676\n",
            " 0.94588877 0.95906021 0.9468581  0.95381444 0.97873183 0.9887102\n",
            " 0.99184625 1.         0.99794731 0.99464019 0.88430345 0.84913719\n",
            " 0.80248338 0.75513667 0.71102351 0.67145842 0.63688731 0.60734397\n",
            " 0.58254188 0.56193101 0.54477823 0.53026539 0.51758248 0.5060063\n",
            " 0.49495035 0.48399216 0.47287327 0.46148193]\n",
            "18 day output [[0.4498245]]\n",
            "19 day input [0.84946929 0.84907015 0.85944765 0.86309688 0.86714524 0.85072371\n",
            " 0.84479371 0.84040323 0.84781573 0.88801427 0.87906226 0.88373783\n",
            " 0.89742244 0.90460686 0.91019474 0.88111495 0.8934311  0.90688763\n",
            " 0.91680897 0.91310272 0.89554081 0.89354513 0.89189158 0.9064885\n",
            " 0.90762888 0.90358052 0.90694465 0.91606772 0.92427849 0.92673031\n",
            " 0.93043656 0.93072166 0.91954589 0.91857657 0.91487032 0.89993129\n",
            " 0.91623878 0.91258955 0.90574725 0.89793561 0.90705869 0.90015936\n",
            " 0.90050148 0.88539139 0.87016726 0.8616714  0.85403082 0.86874178\n",
            " 0.87495687 0.86954005 0.87432966 0.87256207 0.87632533 0.87068043\n",
            " 0.88151408 0.88100091 0.88407995 0.88442206 0.88812831 0.88499225\n",
            " 0.89063715 0.90705869 0.91042282 0.90637446 0.88487821 0.88641773\n",
            " 0.88596158 0.89126437 0.88733004 0.89303196 0.92507676 0.94588877\n",
            " 0.95906021 0.9468581  0.95381444 0.97873183 0.9887102  0.99184625\n",
            " 1.         0.99794731 0.99464019 0.88430345 0.84913719 0.80248338\n",
            " 0.75513667 0.71102351 0.67145842 0.63688731 0.60734397 0.58254188\n",
            " 0.56193101 0.54477823 0.53026539 0.51758248 0.5060063  0.49495035\n",
            " 0.48399216 0.47287327 0.46148193 0.44982451]\n",
            "19 day output [[0.4379902]]\n",
            "20 day input [0.84907015 0.85944765 0.86309688 0.86714524 0.85072371 0.84479371\n",
            " 0.84040323 0.84781573 0.88801427 0.87906226 0.88373783 0.89742244\n",
            " 0.90460686 0.91019474 0.88111495 0.8934311  0.90688763 0.91680897\n",
            " 0.91310272 0.89554081 0.89354513 0.89189158 0.9064885  0.90762888\n",
            " 0.90358052 0.90694465 0.91606772 0.92427849 0.92673031 0.93043656\n",
            " 0.93072166 0.91954589 0.91857657 0.91487032 0.89993129 0.91623878\n",
            " 0.91258955 0.90574725 0.89793561 0.90705869 0.90015936 0.90050148\n",
            " 0.88539139 0.87016726 0.8616714  0.85403082 0.86874178 0.87495687\n",
            " 0.86954005 0.87432966 0.87256207 0.87632533 0.87068043 0.88151408\n",
            " 0.88100091 0.88407995 0.88442206 0.88812831 0.88499225 0.89063715\n",
            " 0.90705869 0.91042282 0.90637446 0.88487821 0.88641773 0.88596158\n",
            " 0.89126437 0.88733004 0.89303196 0.92507676 0.94588877 0.95906021\n",
            " 0.9468581  0.95381444 0.97873183 0.9887102  0.99184625 1.\n",
            " 0.99794731 0.99464019 0.88430345 0.84913719 0.80248338 0.75513667\n",
            " 0.71102351 0.67145842 0.63688731 0.60734397 0.58254188 0.56193101\n",
            " 0.54477823 0.53026539 0.51758248 0.5060063  0.49495035 0.48399216\n",
            " 0.47287327 0.46148193 0.44982451 0.43799019]\n",
            "20 day output [[0.426117]]\n",
            "21 day input [0.85944765 0.86309688 0.86714524 0.85072371 0.84479371 0.84040323\n",
            " 0.84781573 0.88801427 0.87906226 0.88373783 0.89742244 0.90460686\n",
            " 0.91019474 0.88111495 0.8934311  0.90688763 0.91680897 0.91310272\n",
            " 0.89554081 0.89354513 0.89189158 0.9064885  0.90762888 0.90358052\n",
            " 0.90694465 0.91606772 0.92427849 0.92673031 0.93043656 0.93072166\n",
            " 0.91954589 0.91857657 0.91487032 0.89993129 0.91623878 0.91258955\n",
            " 0.90574725 0.89793561 0.90705869 0.90015936 0.90050148 0.88539139\n",
            " 0.87016726 0.8616714  0.85403082 0.86874178 0.87495687 0.86954005\n",
            " 0.87432966 0.87256207 0.87632533 0.87068043 0.88151408 0.88100091\n",
            " 0.88407995 0.88442206 0.88812831 0.88499225 0.89063715 0.90705869\n",
            " 0.91042282 0.90637446 0.88487821 0.88641773 0.88596158 0.89126437\n",
            " 0.88733004 0.89303196 0.92507676 0.94588877 0.95906021 0.9468581\n",
            " 0.95381444 0.97873183 0.9887102  0.99184625 1.         0.99794731\n",
            " 0.99464019 0.88430345 0.84913719 0.80248338 0.75513667 0.71102351\n",
            " 0.67145842 0.63688731 0.60734397 0.58254188 0.56193101 0.54477823\n",
            " 0.53026539 0.51758248 0.5060063  0.49495035 0.48399216 0.47287327\n",
            " 0.46148193 0.44982451 0.43799019 0.426117  ]\n",
            "21 day output [[0.41436243]]\n",
            "22 day input [0.86309688 0.86714524 0.85072371 0.84479371 0.84040323 0.84781573\n",
            " 0.88801427 0.87906226 0.88373783 0.89742244 0.90460686 0.91019474\n",
            " 0.88111495 0.8934311  0.90688763 0.91680897 0.91310272 0.89554081\n",
            " 0.89354513 0.89189158 0.9064885  0.90762888 0.90358052 0.90694465\n",
            " 0.91606772 0.92427849 0.92673031 0.93043656 0.93072166 0.91954589\n",
            " 0.91857657 0.91487032 0.89993129 0.91623878 0.91258955 0.90574725\n",
            " 0.89793561 0.90705869 0.90015936 0.90050148 0.88539139 0.87016726\n",
            " 0.8616714  0.85403082 0.86874178 0.87495687 0.86954005 0.87432966\n",
            " 0.87256207 0.87632533 0.87068043 0.88151408 0.88100091 0.88407995\n",
            " 0.88442206 0.88812831 0.88499225 0.89063715 0.90705869 0.91042282\n",
            " 0.90637446 0.88487821 0.88641773 0.88596158 0.89126437 0.88733004\n",
            " 0.89303196 0.92507676 0.94588877 0.95906021 0.9468581  0.95381444\n",
            " 0.97873183 0.9887102  0.99184625 1.         0.99794731 0.99464019\n",
            " 0.88430345 0.84913719 0.80248338 0.75513667 0.71102351 0.67145842\n",
            " 0.63688731 0.60734397 0.58254188 0.56193101 0.54477823 0.53026539\n",
            " 0.51758248 0.5060063  0.49495035 0.48399216 0.47287327 0.46148193\n",
            " 0.44982451 0.43799019 0.426117   0.41436243]\n",
            "22 day output [[0.40287703]]\n",
            "23 day input [0.86714524 0.85072371 0.84479371 0.84040323 0.84781573 0.88801427\n",
            " 0.87906226 0.88373783 0.89742244 0.90460686 0.91019474 0.88111495\n",
            " 0.8934311  0.90688763 0.91680897 0.91310272 0.89554081 0.89354513\n",
            " 0.89189158 0.9064885  0.90762888 0.90358052 0.90694465 0.91606772\n",
            " 0.92427849 0.92673031 0.93043656 0.93072166 0.91954589 0.91857657\n",
            " 0.91487032 0.89993129 0.91623878 0.91258955 0.90574725 0.89793561\n",
            " 0.90705869 0.90015936 0.90050148 0.88539139 0.87016726 0.8616714\n",
            " 0.85403082 0.86874178 0.87495687 0.86954005 0.87432966 0.87256207\n",
            " 0.87632533 0.87068043 0.88151408 0.88100091 0.88407995 0.88442206\n",
            " 0.88812831 0.88499225 0.89063715 0.90705869 0.91042282 0.90637446\n",
            " 0.88487821 0.88641773 0.88596158 0.89126437 0.88733004 0.89303196\n",
            " 0.92507676 0.94588877 0.95906021 0.9468581  0.95381444 0.97873183\n",
            " 0.9887102  0.99184625 1.         0.99794731 0.99464019 0.88430345\n",
            " 0.84913719 0.80248338 0.75513667 0.71102351 0.67145842 0.63688731\n",
            " 0.60734397 0.58254188 0.56193101 0.54477823 0.53026539 0.51758248\n",
            " 0.5060063  0.49495035 0.48399216 0.47287327 0.46148193 0.44982451\n",
            " 0.43799019 0.426117   0.41436243 0.40287703]\n",
            "23 day output [[0.39178896]]\n",
            "24 day input [0.85072371 0.84479371 0.84040323 0.84781573 0.88801427 0.87906226\n",
            " 0.88373783 0.89742244 0.90460686 0.91019474 0.88111495 0.8934311\n",
            " 0.90688763 0.91680897 0.91310272 0.89554081 0.89354513 0.89189158\n",
            " 0.9064885  0.90762888 0.90358052 0.90694465 0.91606772 0.92427849\n",
            " 0.92673031 0.93043656 0.93072166 0.91954589 0.91857657 0.91487032\n",
            " 0.89993129 0.91623878 0.91258955 0.90574725 0.89793561 0.90705869\n",
            " 0.90015936 0.90050148 0.88539139 0.87016726 0.8616714  0.85403082\n",
            " 0.86874178 0.87495687 0.86954005 0.87432966 0.87256207 0.87632533\n",
            " 0.87068043 0.88151408 0.88100091 0.88407995 0.88442206 0.88812831\n",
            " 0.88499225 0.89063715 0.90705869 0.91042282 0.90637446 0.88487821\n",
            " 0.88641773 0.88596158 0.89126437 0.88733004 0.89303196 0.92507676\n",
            " 0.94588877 0.95906021 0.9468581  0.95381444 0.97873183 0.9887102\n",
            " 0.99184625 1.         0.99794731 0.99464019 0.88430345 0.84913719\n",
            " 0.80248338 0.75513667 0.71102351 0.67145842 0.63688731 0.60734397\n",
            " 0.58254188 0.56193101 0.54477823 0.53026539 0.51758248 0.5060063\n",
            " 0.49495035 0.48399216 0.47287327 0.46148193 0.44982451 0.43799019\n",
            " 0.426117   0.41436243 0.40287703 0.39178896]\n",
            "24 day output [[0.38119227]]\n",
            "25 day input [0.84479371 0.84040323 0.84781573 0.88801427 0.87906226 0.88373783\n",
            " 0.89742244 0.90460686 0.91019474 0.88111495 0.8934311  0.90688763\n",
            " 0.91680897 0.91310272 0.89554081 0.89354513 0.89189158 0.9064885\n",
            " 0.90762888 0.90358052 0.90694465 0.91606772 0.92427849 0.92673031\n",
            " 0.93043656 0.93072166 0.91954589 0.91857657 0.91487032 0.89993129\n",
            " 0.91623878 0.91258955 0.90574725 0.89793561 0.90705869 0.90015936\n",
            " 0.90050148 0.88539139 0.87016726 0.8616714  0.85403082 0.86874178\n",
            " 0.87495687 0.86954005 0.87432966 0.87256207 0.87632533 0.87068043\n",
            " 0.88151408 0.88100091 0.88407995 0.88442206 0.88812831 0.88499225\n",
            " 0.89063715 0.90705869 0.91042282 0.90637446 0.88487821 0.88641773\n",
            " 0.88596158 0.89126437 0.88733004 0.89303196 0.92507676 0.94588877\n",
            " 0.95906021 0.9468581  0.95381444 0.97873183 0.9887102  0.99184625\n",
            " 1.         0.99794731 0.99464019 0.88430345 0.84913719 0.80248338\n",
            " 0.75513667 0.71102351 0.67145842 0.63688731 0.60734397 0.58254188\n",
            " 0.56193101 0.54477823 0.53026539 0.51758248 0.5060063  0.49495035\n",
            " 0.48399216 0.47287327 0.46148193 0.44982451 0.43799019 0.426117\n",
            " 0.41436243 0.40287703 0.39178896 0.38119227]\n",
            "25 day output [[0.37114328]]\n",
            "26 day input [0.84040323 0.84781573 0.88801427 0.87906226 0.88373783 0.89742244\n",
            " 0.90460686 0.91019474 0.88111495 0.8934311  0.90688763 0.91680897\n",
            " 0.91310272 0.89554081 0.89354513 0.89189158 0.9064885  0.90762888\n",
            " 0.90358052 0.90694465 0.91606772 0.92427849 0.92673031 0.93043656\n",
            " 0.93072166 0.91954589 0.91857657 0.91487032 0.89993129 0.91623878\n",
            " 0.91258955 0.90574725 0.89793561 0.90705869 0.90015936 0.90050148\n",
            " 0.88539139 0.87016726 0.8616714  0.85403082 0.86874178 0.87495687\n",
            " 0.86954005 0.87432966 0.87256207 0.87632533 0.87068043 0.88151408\n",
            " 0.88100091 0.88407995 0.88442206 0.88812831 0.88499225 0.89063715\n",
            " 0.90705869 0.91042282 0.90637446 0.88487821 0.88641773 0.88596158\n",
            " 0.89126437 0.88733004 0.89303196 0.92507676 0.94588877 0.95906021\n",
            " 0.9468581  0.95381444 0.97873183 0.9887102  0.99184625 1.\n",
            " 0.99794731 0.99464019 0.88430345 0.84913719 0.80248338 0.75513667\n",
            " 0.71102351 0.67145842 0.63688731 0.60734397 0.58254188 0.56193101\n",
            " 0.54477823 0.53026539 0.51758248 0.5060063  0.49495035 0.48399216\n",
            " 0.47287327 0.46148193 0.44982451 0.43799019 0.426117   0.41436243\n",
            " 0.40287703 0.39178896 0.38119227 0.37114328]\n",
            "26 day output [[0.36166173]]\n",
            "27 day input [0.84781573 0.88801427 0.87906226 0.88373783 0.89742244 0.90460686\n",
            " 0.91019474 0.88111495 0.8934311  0.90688763 0.91680897 0.91310272\n",
            " 0.89554081 0.89354513 0.89189158 0.9064885  0.90762888 0.90358052\n",
            " 0.90694465 0.91606772 0.92427849 0.92673031 0.93043656 0.93072166\n",
            " 0.91954589 0.91857657 0.91487032 0.89993129 0.91623878 0.91258955\n",
            " 0.90574725 0.89793561 0.90705869 0.90015936 0.90050148 0.88539139\n",
            " 0.87016726 0.8616714  0.85403082 0.86874178 0.87495687 0.86954005\n",
            " 0.87432966 0.87256207 0.87632533 0.87068043 0.88151408 0.88100091\n",
            " 0.88407995 0.88442206 0.88812831 0.88499225 0.89063715 0.90705869\n",
            " 0.91042282 0.90637446 0.88487821 0.88641773 0.88596158 0.89126437\n",
            " 0.88733004 0.89303196 0.92507676 0.94588877 0.95906021 0.9468581\n",
            " 0.95381444 0.97873183 0.9887102  0.99184625 1.         0.99794731\n",
            " 0.99464019 0.88430345 0.84913719 0.80248338 0.75513667 0.71102351\n",
            " 0.67145842 0.63688731 0.60734397 0.58254188 0.56193101 0.54477823\n",
            " 0.53026539 0.51758248 0.5060063  0.49495035 0.48399216 0.47287327\n",
            " 0.46148193 0.44982451 0.43799019 0.426117   0.41436243 0.40287703\n",
            " 0.39178896 0.38119227 0.37114328 0.36166173]\n",
            "27 day output [[0.3527351]]\n",
            "28 day input [0.88801427 0.87906226 0.88373783 0.89742244 0.90460686 0.91019474\n",
            " 0.88111495 0.8934311  0.90688763 0.91680897 0.91310272 0.89554081\n",
            " 0.89354513 0.89189158 0.9064885  0.90762888 0.90358052 0.90694465\n",
            " 0.91606772 0.92427849 0.92673031 0.93043656 0.93072166 0.91954589\n",
            " 0.91857657 0.91487032 0.89993129 0.91623878 0.91258955 0.90574725\n",
            " 0.89793561 0.90705869 0.90015936 0.90050148 0.88539139 0.87016726\n",
            " 0.8616714  0.85403082 0.86874178 0.87495687 0.86954005 0.87432966\n",
            " 0.87256207 0.87632533 0.87068043 0.88151408 0.88100091 0.88407995\n",
            " 0.88442206 0.88812831 0.88499225 0.89063715 0.90705869 0.91042282\n",
            " 0.90637446 0.88487821 0.88641773 0.88596158 0.89126437 0.88733004\n",
            " 0.89303196 0.92507676 0.94588877 0.95906021 0.9468581  0.95381444\n",
            " 0.97873183 0.9887102  0.99184625 1.         0.99794731 0.99464019\n",
            " 0.88430345 0.84913719 0.80248338 0.75513667 0.71102351 0.67145842\n",
            " 0.63688731 0.60734397 0.58254188 0.56193101 0.54477823 0.53026539\n",
            " 0.51758248 0.5060063  0.49495035 0.48399216 0.47287327 0.46148193\n",
            " 0.44982451 0.43799019 0.426117   0.41436243 0.40287703 0.39178896\n",
            " 0.38119227 0.37114328 0.36166173 0.3527351 ]\n",
            "28 day output [[0.34432662]]\n",
            "29 day input [0.87906226 0.88373783 0.89742244 0.90460686 0.91019474 0.88111495\n",
            " 0.8934311  0.90688763 0.91680897 0.91310272 0.89554081 0.89354513\n",
            " 0.89189158 0.9064885  0.90762888 0.90358052 0.90694465 0.91606772\n",
            " 0.92427849 0.92673031 0.93043656 0.93072166 0.91954589 0.91857657\n",
            " 0.91487032 0.89993129 0.91623878 0.91258955 0.90574725 0.89793561\n",
            " 0.90705869 0.90015936 0.90050148 0.88539139 0.87016726 0.8616714\n",
            " 0.85403082 0.86874178 0.87495687 0.86954005 0.87432966 0.87256207\n",
            " 0.87632533 0.87068043 0.88151408 0.88100091 0.88407995 0.88442206\n",
            " 0.88812831 0.88499225 0.89063715 0.90705869 0.91042282 0.90637446\n",
            " 0.88487821 0.88641773 0.88596158 0.89126437 0.88733004 0.89303196\n",
            " 0.92507676 0.94588877 0.95906021 0.9468581  0.95381444 0.97873183\n",
            " 0.9887102  0.99184625 1.         0.99794731 0.99464019 0.88430345\n",
            " 0.84913719 0.80248338 0.75513667 0.71102351 0.67145842 0.63688731\n",
            " 0.60734397 0.58254188 0.56193101 0.54477823 0.53026539 0.51758248\n",
            " 0.5060063  0.49495035 0.48399216 0.47287327 0.46148193 0.44982451\n",
            " 0.43799019 0.426117   0.41436243 0.40287703 0.39178896 0.38119227\n",
            " 0.37114328 0.36166173 0.3527351  0.34432662]\n",
            "29 day output [[0.3363831]]\n",
            "[[0.8843034505844116], [0.8491371870040894], [0.8024833798408508], [0.7551366686820984], [0.7110235095024109], [0.6714584231376648], [0.6368873119354248], [0.6073439717292786], [0.5825418829917908], [0.5619310140609741], [0.5447782278060913], [0.5302653908729553], [0.5175824761390686], [0.5060063004493713], [0.4949503540992737], [0.48399215936660767], [0.4728732705116272], [0.4614819288253784], [0.4498245120048523], [0.4379901885986328], [0.4261170029640198], [0.41436243057250977], [0.4028770327568054], [0.39178895950317383], [0.38119226694107056], [0.37114328145980835], [0.36166173219680786], [0.35273510217666626], [0.34432661533355713], [0.3363831043243408]]\n"
          ],
          "name": "stdout"
        }
      ]
    },
    {
      "cell_type": "code",
      "metadata": {
        "id": "f-nbgm9qBh_N"
      },
      "source": [
        "day_new=np.arange(1,101)\r\n",
        "day_pred=np.arange(101,131)"
      ],
      "execution_count": 14,
      "outputs": []
    },
    {
      "cell_type": "code",
      "metadata": {
        "colab": {
          "base_uri": "https://localhost:8080/"
        },
        "id": "PUuiJlDVBtjE",
        "outputId": "017adf4c-9a82-4fd7-d42a-a7c7252b6d64"
      },
      "source": [
        "len(df1)"
      ],
      "execution_count": 15,
      "outputs": [
        {
          "output_type": "execute_result",
          "data": {
            "text/plain": [
              "8364"
            ]
          },
          "metadata": {
            "tags": []
          },
          "execution_count": 15
        }
      ]
    },
    {
      "cell_type": "code",
      "metadata": {
        "colab": {
          "base_uri": "https://localhost:8080/",
          "height": 284
        },
        "id": "JyW6anZ9Bw7N",
        "outputId": "fd8bf881-2344-4f9c-a4f4-35a355fc186f"
      },
      "source": [
        "plt.plot(day_new,scaler.inverse_transform(df1[8264:]))\r\n",
        "plt.plot(day_pred,scaler.inverse_transform(lst_output))"
      ],
      "execution_count": 20,
      "outputs": [
        {
          "output_type": "execute_result",
          "data": {
            "text/plain": [
              "[<matplotlib.lines.Line2D at 0x7f0674acd320>]"
            ]
          },
          "metadata": {
            "tags": []
          },
          "execution_count": 20
        },
        {
          "output_type": "display_data",
          "data": {
            "image/png": "[encoded data removed]",
            "text/plain": [
              "<Figure size 432x288 with 1 Axes>"
            ]
          },
          "metadata": {
            "tags": [],
            "needs_background": "light"
          }
        }
      ]
    },
    {
      "cell_type": "code",
      "metadata": {
        "colab": {
          "base_uri": "https://localhost:8080/",
          "height": 282
        },
        "id": "P8X_V-WkCDPo",
        "outputId": "3b6927a7-29f3-4f15-a68e-183526145f4a"
      },
      "source": [
        "df3=df1.tolist()\r\n",
        "df3.extend(lst_output)\r\n",
        "plt.plot(df3[1200:])"
      ],
      "execution_count": 17,
      "outputs": [
        {
          "output_type": "execute_result",
          "data": {
            "text/plain": [
              "[<matplotlib.lines.Line2D at 0x7f0674ba5b00>]"
            ]
          },
          "metadata": {
            "tags": []
          },
          "execution_count": 17
        },
        {
          "output_type": "display_data",
          "data": {
            "image/png": "[encoded data removed]",
            "text/plain": [
              "<Figure size 432x288 with 1 Axes>"
            ]
          },
          "metadata": {
            "tags": [],
            "needs_background": "light"
          }
        }
      ]
    },
    {
      "cell_type": "code",
      "metadata": {
        "id": "2BZVQUQxCKks"
      },
      "source": [
        "\r\n",
        "df3=scaler.inverse_transform(df3).tolist()"
      ],
      "execution_count": 18,
      "outputs": []
    },
    {
      "cell_type": "code",
      "metadata": {
        "colab": {
          "base_uri": "https://localhost:8080/",
          "height": 282
        },
        "id": "6MLjPdaGCL-j",
        "outputId": "108d4f38-42dd-4a5b-d74d-7d317935aecf"
      },
      "source": [
        "plt.plot(df3)"
      ],
      "execution_count": 24,
      "outputs": [
        {
          "output_type": "execute_result",
          "data": {
            "text/plain": [
              "[<matplotlib.lines.Line2D at 0x7f06741e26d8>]"
            ]
          },
          "metadata": {
            "tags": []
          },
          "execution_count": 24
        },
        {
          "output_type": "display_data",
          "data": {
            "image/png": "[encoded data removed]",
            "text/plain": [
              "<Figure size 432x288 with 1 Axes>"
            ]
          },
          "metadata": {
            "tags": [],
            "needs_background": "light"
          }
        }
      ]
    }
  ]
}